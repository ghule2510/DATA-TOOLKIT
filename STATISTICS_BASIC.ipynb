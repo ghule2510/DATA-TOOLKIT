{
  "nbformat": 4,
  "nbformat_minor": 0,
  "metadata": {
    "colab": {
      "provenance": [],
      "authorship_tag": "ABX9TyOLs9dmqN9vYgFdc7rwi5A6",
      "include_colab_link": true
    },
    "kernelspec": {
      "name": "python3",
      "display_name": "Python 3"
    },
    "language_info": {
      "name": "python"
    }
  },
  "cells": [
    {
      "cell_type": "markdown",
      "metadata": {
        "id": "view-in-github",
        "colab_type": "text"
      },
      "source": [
        "<a href=\"https://colab.research.google.com/github/ghule2510/DATA-TOOLKIT/blob/main/STATISTICS_BASIC.ipynb\" target=\"_parent\"><img src=\"https://colab.research.google.com/assets/colab-badge.svg\" alt=\"Open In Colab\"/></a>"
      ]
    },
    {
      "cell_type": "markdown",
      "source": [
        "1. What is the difference between descriptive statistics and inferential\n",
        "statistics? Explain with examples.\n",
        "ANS-\n",
        "1.DESCRIPTIVE STATISTICS:\n",
        "Descriptive statistics summarize and describe the main features of a dataset. They provide a snapshot of the data but do not make predictions or generalizations beyond the dataset.\n",
        "Example:\n",
        "Suppose we have the exam scores of 10 students:\n",
        "[80, 85, 90, 75, 95, 70, 88, 92, 85, 78]\n",
        "\n",
        "Descriptive statistics would tell us:\n",
        "\n",
        "Mean score: 83.8\n",
        "\n",
        "Median score: 85\n",
        "\n",
        "Standard deviation: 8.4\n",
        "\n",
        "Histogram: Shows how scores are distributed\n",
        "2. Inferential Statistics\n",
        "\n",
        "Definition:\n",
        "Inferential statistics use a sample of data to make conclusions or predictions about a larger population. It involves hypothesis testing, confidence intervals, regression analysis, and more.\n",
        "Example:\n",
        "Suppose we collect exam scores from 50 students out of a school of 500 students.\n",
        "\n",
        "Using inferential statistics, we can estimate the average score of all 500 students based on the 50-sample mean.\n",
        "\n",
        "We could also test whether the average score is greater than 75 using a t-test."
      ],
      "metadata": {
        "id": "1lxYlD-yBTmP"
      }
    },
    {
      "cell_type": "markdown",
      "source": [
        "2. What is sampling in statistics? Explain the differences between random\n",
        "and stratified sampling.\n",
        "ANS-Definition:\n",
        "Sampling is the process of selecting a subset of individuals or observations from a larger population to make inferences about the whole population.\n",
        "\n",
        "Populations are often too large to study entirely.\n",
        "\n",
        "A sample should ideally be representative of the population.\n",
        "1. Random Sampling\n",
        "\n",
        "Definition:\n",
        "Random sampling is a technique where every individual in the population has an equal chance of being selected.\n",
        "\n",
        "Advantages:\n",
        "\n",
        "Simple and unbiased\n",
        "\n",
        "Easy to analyze statistically\n",
        "\n",
        "Example:\n",
        "From 1,000 students, we randomly pick 100 students using a random number generator. Each student has the same probability of being selected.\n",
        "\n",
        "Limitations:\n",
        "\n",
        "May not capture subgroups proportionally (e.g., gender or age)\n",
        "\n",
        "Can produce unrepresentative samples by chance\n",
        "2. Stratified Sampling\n",
        "\n",
        "Definition:\n",
        "Stratified sampling divides the population into distinct subgroups (strata) based on specific characteristics (like gender, age, income), and then random samples are drawn from each stratum proportionally.\n",
        "\n",
        "Advantages:\n",
        "\n",
        "Ensures representation of all subgroups\n",
        "\n",
        "Reduces sampling bias\n",
        "\n",
        "Often more precise than simple random sampling\n",
        "\n",
        "Example:\n",
        "\n",
        "Population: 1,000 students (600 boys, 400 girls)\n",
        "\n",
        "Sample size: 100 students\n",
        "\n",
        "Stratified sampling: Randomly select 60 boys and 40 girls to match the population proportions\n",
        "\n",
        "Limitations:\n",
        "\n",
        "Requires knowledge of strata in advance\n",
        "\n",
        "Slightly more complex to implement"
      ],
      "metadata": {
        "id": "eLStGISqB3yG"
      }
    },
    {
      "cell_type": "markdown",
      "source": [
        "3.DEFINE MEAN,MEDIAN,AND MODE.EXPLAIN WHY THESE MEASURES OF CENTRAL TENDENCY ARE IMPORTANT.\n",
        "ANS-1. Mean (Average)\n",
        "Definition:\n",
        "The mean is the sum of all values divided by the number of values. It represents the “typical” value of a dataset.\n",
        "2. Median\n",
        "Definition:\n",
        "The median is the middle value of an ordered dataset. If there is an even number of values, it is the average of the two middle values.\n",
        "3. Mode\n",
        "Definition:\n",
        "The mode is the value that appears most frequently in the dataset.\n",
        "These Measures Are Important\n",
        "1.Summarize Data: They provide a single value that represents the “center” of the data.\n",
        "\n",
        "2.Compare Datasets: Help in comparing different datasets quickly.\n",
        "\n",
        "3.Decision Making: Useful in business, education, and research for understanding trends and making decisions.\n",
        "\n",
        "4.Detect Skewness: Comparing mean and median can indicate whether the data is symmetrical or skewed."
      ],
      "metadata": {
        "id": "c8NPPVZMCS6s"
      }
    },
    {
      "cell_type": "markdown",
      "source": [
        "4. Explain skewness and kurtosis. What does a positive skew imply about the\n",
        "data?\n",
        "ANS-1. Skewness\n",
        "\n",
        "Definition:\n",
        "Skewness measures the asymmetry of the data distribution around its mean.\n",
        "\n",
        "Skewness = 0: Symmetrical distribution (e.g., normal distribution)\n",
        "\n",
        "Positive Skew (Right Skew): Tail on the right side is longer; most data points are concentrated on the left.\n",
        "\n",
        "Negative Skew (Left Skew): Tail on the left side is longer; most data points are concentrated on the right.\n",
        "2. Kurtosis\n",
        "\n",
        "Definition:\n",
        "Kurtosis measures the “tailedness” or peakedness of a data distribution.\n",
        "\n",
        "Normal distribution: Kurtosis ≈ 3 (sometimes excess kurtosis = 0)\n",
        "\n",
        "Leptokurtic (>3): Sharper peak, fatter tails → more outliers\n",
        "\n",
        "Platykurtic (<3): Flatter peak, thinner tails → fewer extreme values\n",
        "\n",
        "Positive Skew:\n",
        "Income distribution in a population: most people earn moderate amounts, but a few earn extremely high incomes → long right tail.\n",
        "\n",
        "Interpretation of Positive Skew:\n",
        "\n",
        "Mean > Median > Mode\n",
        "\n",
        "Indicates a few unusually high values in the dataset."
      ],
      "metadata": {
        "id": "dnodC-WfDP87"
      }
    },
    {
      "cell_type": "markdown",
      "source": [
        "5.Implement a Python program to compute the mean, median, and mode of\n",
        "a given list of numbers.\n",
        "numbers = [12, 15, 12, 18, 19, 12, 20, 22, 19, 19, 24, 24, 24, 26, 28]\n",
        "(Include your Python code and output in the code box below.)"
      ],
      "metadata": {
        "id": "0YZEwn73D4Li"
      }
    },
    {
      "cell_type": "code",
      "source": [
        "from statistics import mean, median, mode\n",
        "\n",
        "# Given list of numbers\n",
        "numbers = [12, 15, 12, 18, 19, 12, 20, 22, 19, 19, 24, 24, 24, 26, 28]\n",
        "\n",
        "# Calculate mean, median, and mode\n",
        "mean_value = mean(numbers)\n",
        "median_value = median(numbers)\n",
        "mode_value = mode(numbers)\n",
        "\n",
        "# Print results\n",
        "print(f\"Numbers: {numbers}\")\n",
        "print(f\"Mean: {mean_value}\")\n",
        "print(f\"Median: {median_value}\")\n",
        "print(f\"Mode: {mode_value}\")\n"
      ],
      "metadata": {
        "colab": {
          "base_uri": "https://localhost:8080/"
        },
        "id": "B-jkkfc7ECSS",
        "outputId": "b538a22d-e995-40a4-d09e-0313e3ddc799"
      },
      "execution_count": 1,
      "outputs": [
        {
          "output_type": "stream",
          "name": "stdout",
          "text": [
            "Numbers: [12, 15, 12, 18, 19, 12, 20, 22, 19, 19, 24, 24, 24, 26, 28]\n",
            "Mean: 19.6\n",
            "Median: 19\n",
            "Mode: 12\n"
          ]
        }
      ]
    },
    {
      "cell_type": "markdown",
      "source": [
        "6.Compute the covariance and correlation coefficient between the following\n",
        "two datasets provided as lists in Python:\n",
        "list_x = [10, 20, 30, 40, 50]\n",
        "list_y = [15, 25, 35, 45, 60]\n",
        "(Include your Python code and output in the code box below.)"
      ],
      "metadata": {
        "id": "3J6DiwCjEHXj"
      }
    },
    {
      "cell_type": "code",
      "source": [
        "import numpy as np\n",
        "\n",
        "# Given datasets\n",
        "list_x = [10, 20, 30, 40, 50]\n",
        "list_y = [15, 25, 35, 45, 60]\n",
        "\n",
        "# Convert lists to numpy arrays\n",
        "x = np.array(list_x)\n",
        "y = np.array(list_y)\n",
        "\n",
        "# Compute covariance\n",
        "cov_matrix = np.cov(x, y, ddof=1)  # ddof=1 for sample covariance\n",
        "cov_xy = cov_matrix[0, 1]\n",
        "\n",
        "# Compute correlation coefficient\n",
        "corr_matrix = np.corrcoef(x, y)\n",
        "corr_xy = corr_matrix[0, 1]\n",
        "\n",
        "# Print results\n",
        "print(f\"Covariance between X and Y: {cov_xy}\")\n",
        "print(f\"Correlation coefficient between X and Y: {corr_xy}\")\n"
      ],
      "metadata": {
        "colab": {
          "base_uri": "https://localhost:8080/"
        },
        "id": "GwnbQQaNEVgq",
        "outputId": "35e8ff78-dc14-4cb4-e1b3-d2786c0bb7fd"
      },
      "execution_count": 2,
      "outputs": [
        {
          "output_type": "stream",
          "name": "stdout",
          "text": [
            "Covariance between X and Y: 275.0\n",
            "Correlation coefficient between X and Y: 0.995893206467704\n"
          ]
        }
      ]
    },
    {
      "cell_type": "markdown",
      "source": [
        "7. Write a Python script to draw a boxplot for the following numeric list and\n",
        "identify its outliers. Explain the result:\n",
        "data = [12, 14, 14, 15, 18, 19, 19, 21, 22, 22, 23, 23, 24, 26, 29, 35]\n",
        "(Include your Python code and output in the code box below.)"
      ],
      "metadata": {
        "id": "zSCuevqGEayB"
      }
    },
    {
      "cell_type": "code",
      "source": [
        "import matplotlib.pyplot as plt\n",
        "import numpy as np\n",
        "\n",
        "# Given dataset\n",
        "data = [12, 14, 14, 15, 18, 19, 19, 21, 22, 22, 23, 23, 24, 26, 29, 35]\n",
        "\n",
        "# Calculate Q1, Q3, and IQR\n",
        "Q1 = np.percentile(data, 25)\n",
        "Q3 = np.percentile(data, 75)\n",
        "IQR = Q3 - Q1\n",
        "\n",
        "# Determine outliers\n",
        "lower_bound = Q1 - 1.5 * IQR\n",
        "upper_bound = Q3 + 1.5 * IQR\n",
        "outliers = [x for x in data if x < lower_bound or x > upper_bound]\n",
        "\n",
        "print(f\"Q1 (25th percentile): {Q1}\")\n",
        "print(f\"Q3 (75th percentile): {Q3}\")\n",
        "print(f\"IQR (Q3 - Q1): {IQR}\")\n",
        "print(f\"Lower bound for outliers: {lower_bound}\")\n",
        "print(f\"Upper bound for outliers: {upper_bound}\")\n",
        "print(f\"Outliers in the dataset: {outliers}\")\n",
        "\n",
        "# Plot boxplot\n",
        "plt.figure(figsize=(8,5))\n",
        "plt.boxplot(data, vert=False, patch_artist=True, boxprops=dict(facecolor='skyblue'))\n",
        "plt.title('Boxplot of the Dataset')\n",
        "plt.xlabel('Values')\n",
        "plt.show()\n"
      ],
      "metadata": {
        "colab": {
          "base_uri": "https://localhost:8080/",
          "height": 591
        },
        "id": "pZ6JPhzVEfgZ",
        "outputId": "0c95ed2c-0eaa-422f-81ae-c401b55b3ede"
      },
      "execution_count": 3,
      "outputs": [
        {
          "output_type": "stream",
          "name": "stdout",
          "text": [
            "Q1 (25th percentile): 17.25\n",
            "Q3 (75th percentile): 23.25\n",
            "IQR (Q3 - Q1): 6.0\n",
            "Lower bound for outliers: 8.25\n",
            "Upper bound for outliers: 32.25\n",
            "Outliers in the dataset: [35]\n"
          ]
        },
        {
          "output_type": "display_data",
          "data": {
            "text/plain": [
              "<Figure size 800x500 with 1 Axes>"
            ],
            "image/png": "[encoded data removed]"
          },
          "metadata": {}
        }
      ]
    },
    {
      "cell_type": "markdown",
      "source": [
        "8. You are working as a data analyst in an e-commerce company. The\n",
        "marketing team wants to know if there is a relationship between advertising spend and\n",
        "daily sales.\n",
        "● Explain how you would use covariance and correlation to explore this\n",
        "relationship.\n",
        "● Write Python code to compute the correlation between the two lists:\n",
        "advertising_spend = [200, 250, 300, 400, 500]   \n",
        "daily_sales = [2200, 2450, 2750, 3200, 4000]\n",
        "(Include your Python code and output in the code box below.)\n",
        "ANS-Covariance:\n",
        "\n",
        "Measures the direction of the linear relationship between two variables.\n",
        "\n",
        "Positive covariance → both variables increase together.\n",
        "\n",
        "Negative covariance → one increases while the other decreases.\n",
        "\n",
        "Limitation: The magnitude depends on the scale of variables, so it’s hard to interpret directly.\n",
        "\n",
        "Correlation coefficient (Pearson’s r):\n",
        "\n",
        "Measures both the strength and direction of the linear relationship.\n",
        "\n",
        "Standardized between -1 and 1:\n",
        "\n",
        "1 → perfect positive correlation\n",
        "\n",
        "-1 → perfect negative correlation\n",
        "\n",
        "0 → no linear correlation\n",
        "\n",
        "More interpretable than covariance and commonly used to report relationships."
      ],
      "metadata": {
        "id": "MBMdbspBEm5v"
      }
    },
    {
      "cell_type": "code",
      "source": [
        "import numpy as np\n",
        "\n",
        "# Given data\n",
        "advertising_spend = [200, 250, 300, 400, 500]\n",
        "daily_sales = [2200, 2450, 2750, 3200, 4000]\n",
        "\n",
        "# Convert lists to numpy arrays\n",
        "x = np.array(advertising_spend)\n",
        "y = np.array(daily_sales)\n",
        "\n",
        "# Compute covariance\n",
        "cov_matrix = np.cov(x, y, ddof=1)\n",
        "cov_xy = cov_matrix[0, 1]\n",
        "\n",
        "# Compute correlation coefficient\n",
        "corr_matrix = np.corrcoef(x, y)\n",
        "corr_xy = corr_matrix[0, 1]\n",
        "\n",
        "# Print results\n",
        "print(f\"Covariance between advertising spend and daily sales: {cov_xy}\")\n",
        "print(f\"Correlation coefficient between advertising spend and daily sales: {corr_xy}\")\n"
      ],
      "metadata": {
        "colab": {
          "base_uri": "https://localhost:8080/"
        },
        "id": "82Uo8RgNFBIp",
        "outputId": "2050feb0-d92f-4f9b-f35b-a0ea8e324b56"
      },
      "execution_count": 4,
      "outputs": [
        {
          "output_type": "stream",
          "name": "stdout",
          "text": [
            "Covariance between advertising spend and daily sales: 84875.0\n",
            "Correlation coefficient between advertising spend and daily sales: 0.9935824101653329\n"
          ]
        }
      ]
    },
    {
      "cell_type": "markdown",
      "source": [
        "9.: Your team has collected customer satisfaction survey data on a scale of\n",
        "1-10 and wants to understand its distribution before launching a new product.\n",
        "● Explain which summary statistics and visualizations (e.g. mean, standard\n",
        "deviation, histogram) you’d use.\n",
        "● Write Python code to create a histogram using Matplotlib for the survey data:\n",
        "survey_scores = [7, 8, 5, 9, 6, 7, 8, 9, 10, 4, 7, 6, 9, 8, 7]\n",
        "(Include your Python code and output in the code box below.)\n",
        "ANS-Mean: Average satisfaction score → shows overall customer satisfaction.\n",
        "\n",
        "Median: Middle value → helps understand central tendency, especially if data is skewed.\n",
        "\n",
        "Mode: Most frequent score → identifies the most common sentiment.\n",
        "\n",
        "Standard Deviation: Measures variability → tells how consistent the scores are.\n",
        "\n",
        "Min/Max: Range of responses → identifies extremes."
      ],
      "metadata": {
        "id": "Ce2C-FaKEm4a"
      }
    },
    {
      "cell_type": "code",
      "source": [
        "import matplotlib.pyplot as plt\n",
        "\n",
        "# Survey data\n",
        "survey_scores = [7, 8, 5, 9, 6, 7, 8, 9, 10, 4, 7, 6, 9, 8, 7]\n",
        "\n",
        "# Calculate basic statistics\n",
        "mean_score = sum(survey_scores)/len(survey_scores)\n",
        "median_score = sorted(survey_scores)[len(survey_scores)//2]\n",
        "mode_score = max(set(survey_scores), key=survey_scores.count)\n",
        "std_dev = (sum((x - mean_score)**2 for x in survey_scores) / (len(survey_scores)-1))**0.5\n",
        "\n",
        "print(f\"Mean: {mean_score:.2f}\")\n",
        "print(f\"Median: {median_score}\")\n",
        "print(f\"Mode: {mode_score}\")\n",
        "print(f\"Standard Deviation: {std_dev:.2f}\")\n",
        "\n",
        "# Plot histogram\n",
        "plt.figure(figsize=(8,5))\n",
        "plt.hist(survey_scores, bins=range(4,12), edgecolor='black', alpha=0.7, color='skyblue')\n",
        "plt.title('Histogram of Customer Satisfaction Scores')\n",
        "plt.xlabel('Survey Score')\n",
        "plt.ylabel('Frequency')\n",
        "plt.xticks(range(4,11))\n",
        "plt.show()\n"
      ],
      "metadata": {
        "colab": {
          "base_uri": "https://localhost:8080/",
          "height": 556
        },
        "id": "0kEf2Hh0Fm4A",
        "outputId": "a3526413-e9e0-4d5e-bbef-529444eeaa6d"
      },
      "execution_count": 5,
      "outputs": [
        {
          "output_type": "stream",
          "name": "stdout",
          "text": [
            "Mean: 7.33\n",
            "Median: 7\n",
            "Mode: 7\n",
            "Standard Deviation: 1.63\n"
          ]
        },
        {
          "output_type": "display_data",
          "data": {
            "text/plain": [
              "<Figure size 800x500 with 1 Axes>"
            ],
            "image/png": "[encoded data removed]"
          },
          "metadata": {}
        }
      ]
    }
  ]
}