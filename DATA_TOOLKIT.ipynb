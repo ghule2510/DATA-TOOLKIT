{
  "nbformat": 4,
  "nbformat_minor": 0,
  "metadata": {
    "colab": {
      "provenance": []
    },
    "kernelspec": {
      "name": "python3",
      "display_name": "Python 3"
    },
    "language_info": {
      "name": "python"
    }
  },
  "cells": [
    {
      "cell_type": "markdown",
      "source": [
        "***DATA TOOLKIT***"
      ],
      "metadata": {
        "id": "iZwC2hJ-IkMO"
      }
    },
    {
      "cell_type": "markdown",
      "source": [
        "1.WHAT IS NUMPY,AND WHY IS IT WIDELY USED IN PYTHON?\n",
        "ANS:NumPy (short for Numerical Python) is a powerful open-source Python library used for numerical computing.\n",
        "\n",
        "It provides the ndarray object, which is a fast, flexible, and efficient multidimensional array.\n",
        "\n",
        "NumPy also offers a wide range of mathematical functions, linear algebra tools, random number capabilities, and more.\n",
        "\n",
        "Efficient Arrays (ndarray)\n",
        "\n",
        "Unlike Python lists, NumPy arrays store elements of the same data type in contiguous memory.\n",
        "\n",
        "This makes them much faster and more memory-efficient for numerical operations.\n",
        "\n",
        "Vectorization (Faster Computations)\n",
        "\n",
        "NumPy allows you to perform operations on entire arrays without explicit loops.\n",
        "\n",
        "\n",
        "Mathematical & Scientific Computing\n",
        "\n",
        "Provides functions for linear algebra, Fourier transforms, statistics, and random number generation.\n",
        "\n",
        "Used as the foundation for scientific libraries like Pandas, SciPy, scikit-learn, TensorFlow, and PyTorch.\n",
        "\n",
        "Interoperability\n",
        "\n",
        "Works well with data from databases, CSV files, Excel, and other formats.\n",
        "\n",
        "Can integrate with C/C++ and Fortran code for high-performance tasks.\n",
        "\n",
        "Community & Ecosystem\n",
        "\n",
        "Widely used in data science, machine learning, and scientific research.\n",
        "\n",
        "Strong community support and vast ecosystem of libraries built on top of NumPy."
      ],
      "metadata": {
        "id": "3i8y2YeKIrb2"
      }
    },
    {
      "cell_type": "markdown",
      "source": [
        "2.HOW DOES BROADCASTING WORK IN NUMPY?\n",
        "ANS-Broadcasting in NumPy is the ability to perform arithmetic operations on arrays of different shapes without explicitly replicating data.\n",
        "\n",
        "Instead of creating large copies, NumPy \"stretches\" the smaller array across the larger one, making operations faster and memory-efficient."
      ],
      "metadata": {
        "id": "ie2rATMHLc4u"
      }
    },
    {
      "cell_type": "markdown",
      "source": [
        "3.WHAT IS A PANDAS DATAFRAME?\n",
        "ANS-Pandas is a Python library used for data analysis and manipulation.\n",
        "\n",
        "It provides two main data structures:\n",
        "\n",
        "Series → 1D labeled array (like a single column).\n",
        "\n",
        "DataFrame → 2D labeled table (like Excel or SQL table)\n",
        "\n",
        "A DataFrame is the core data structure in Pandas.\n",
        "\n",
        "It is a 2D table with rows and columns.\n",
        "\n",
        "Each column is actually a Pandas Series.\n",
        "\n",
        "It allows heterogeneous data types (different types in different columns)."
      ],
      "metadata": {
        "id": "kAqGDOxZMyqm"
      }
    },
    {
      "cell_type": "markdown",
      "source": [
        "4.EXPLAIN THE USE OF THE GROUPBY()METHOD IN PANDAS.\n",
        "ANS-The groupby() method in Pandas is used to split data into groups based on some column(s), then apply a function (like sum, mean, count, etc.), and finally combine the results.\n",
        "\n",
        "This follows the Split → Apply → Combine strategy."
      ],
      "metadata": {
        "id": "KxncNYF0Nyz9"
      }
    },
    {
      "cell_type": "markdown",
      "source": [
        "5.WHY IS SEABORN PREFERRRED FOR STATISTICAL VISUALIZATION?\n",
        "ANS-High-level API (Simpler than Matplotlib)\n",
        "\n",
        "Seaborn provides functions like sns.barplot(), sns.boxplot(), sns.histplot() that handle complex statistical calculations (like confidence intervals, distribution fitting) automatically.\n",
        "\n",
        "Example: a single line in Seaborn can do what takes multiple lines in Matplotlib.\n",
        "\n",
        "Built-in Statistical Support\n",
        "\n",
        "Many plots (e.g., sns.regplot, sns.boxplot, sns.violinplot) are designed to show statistical relationships.\n",
        "\n",
        "It automatically adds things like trend lines, error bars, confidence intervals.\n",
        "\n",
        "Beautiful Default Styles\n",
        "\n",
        "Seaborn comes with attractive default themes and color palettes.\n",
        "\n",
        "Plots look professional without much customization.\n",
        "\n",
        "Integration with Pandas\n",
        "\n",
        "Works seamlessly with Pandas DataFrames.\n",
        "\n",
        "You can pass column names directly (x=\"Age\", y=\"Salary\", data=df) instead of slicing arrays manually.\n",
        "\n",
        "Great for Exploratory Data Analysis (EDA)\n",
        "\n",
        "Easy to visualize distributions, correlations, and categories.\n",
        "\n",
        "Helps quickly spot trends and patterns in data."
      ],
      "metadata": {
        "id": "3Wa9_2fGOHpl"
      }
    },
    {
      "cell_type": "markdown",
      "source": [
        "6.WHAT ARE THE DIFFEREENCE BETWEEN NUMPY ARRAYS AND PYTHON LISTS?\n",
        "ANS- NumPy arrays for:\n",
        "\n",
        "Scientific computing\n",
        "\n",
        "Machine learning\n",
        "\n",
        "Large-scale numerical data\n",
        "\n",
        " Python lists for:\n",
        "\n",
        "General-purpose programming\n",
        "\n",
        "Mixed data types\n",
        "\n",
        "Simpler tasks"
      ],
      "metadata": {
        "id": "VSGMXGQvOouN"
      }
    },
    {
      "cell_type": "markdown",
      "source": [
        "7.WHAT IS A HEATMAP,AND WHEN SHOULD IT BE USED?\n",
        "ANS-A heatmap is a data visualization technique that represents values in a matrix or table format using colors.\n",
        "\n",
        "Each cell’s color intensity shows the magnitude of the value.\n",
        "\n",
        "Darker/brighter colors = higher or lower values.\n",
        "\n",
        "1.Showing correlations between variables\n",
        "\n",
        "A common use is the correlation heatmap, where you see how strongly different variables are related.\n",
        "\n",
        "Example: In machine learning, checking correlation between features before training.\n",
        "\n",
        "2.Visualizing tabular/matrix data\n",
        "\n",
        "For datasets like confusion matrices, user-activity logs, or sales by region/month.\n",
        "\n",
        "Helps spot patterns, clusters, or anomalies at a glance.\n",
        "\n",
        "3.Comparing large sets of values\n",
        "\n",
        "When numbers in a table are too many to read easily, a heatmap lets you see trends via color gradients.\n",
        "\n",
        "4.Highlighting high/low intensity areas\n",
        "\n",
        "Great for performance monitoring, sensor data, website analytics (e.g., where users click most)."
      ],
      "metadata": {
        "id": "xqe-jvd_PyxW"
      }
    },
    {
      "cell_type": "markdown",
      "source": [
        "8.WHAT DOES THE TERM\"VECTORIZED OPERATION\" MEAN IN NUMPY?\n",
        "ANS-A vectorized operation means performing operations directly on entire arrays (vectors, matrices, etc.) without using explicit Python loops.\n",
        "\n",
        "Instead of looping element by element, NumPy applies the operation to the whole array at once, using optimized C/C++ code under the hood."
      ],
      "metadata": {
        "id": "ZHShcWqmRAdV"
      }
    },
    {
      "cell_type": "markdown",
      "source": [
        "9.HOW DOES MATPLOTLIB DIFFER FROM PLOTLY?\n",
        "ANS-METPLOTLIB\n",
        "1.Primarily a 2D plotting library (though supports some 3D)\n",
        "2.Mostly static plots (images, PDFs, etc.) – interactivity requires extra tools (e.g., mpld3, Jupyter widgets)\n",
        "3.More low-level: gives fine-grained control, but code can be longer\n",
        "4.Extremely customizable (you can control almost every detail of the plot)\n",
        "\n",
        "PLOTLY:\n",
        "1.A modern interactive plotting library.\n",
        "2.Highly interactive by default (zoom,     hover, pan, tooltips)\n",
        "3.More high-level: easier to create interactive and beautiful charts quickly\n",
        "4.Customization is possible, but less fine-grained than Matplotlib"
      ],
      "metadata": {
        "id": "H2RYqwygRZ7l"
      }
    },
    {
      "cell_type": "markdown",
      "source": [
        "10.WHAT IS THE SIGNIFICANCE OF HIERACHICAL INDEXING IN PANDAS?\n",
        "ANS-Hierarchical indexing (also called MultiIndex) means having multiple levels of indexes (row or column labels) in a Pandas Series or DataFrame.\n",
        "\n",
        "It allows you to work with higher-dimensional data in a 2D table format.\n",
        "\n",
        "Significance\n",
        "\n",
        "1.Represents Multi-Dimensional Data in 2D\n",
        "\n",
        "Lets you store data with multiple keys (like country + year, department + employee) without converting it into multiple tables.\n",
        "\n",
        "2.Easier Grouping and Analysis\n",
        "\n",
        "Makes it easy to group, slice, and aggregate data at multiple levels (e.g., region → country → city).\n",
        "\n",
        "3.Powerful Data Selection\n",
        "\n",
        "You can query data at different levels of the index (e.g., all data for “India”, or specifically for “India, 2023”).\n",
        "\n",
        "4.Better Data Organization\n",
        "\n",
        "Useful for time series, panel data, pivot tables, financial data where multiple dimensions exist."
      ],
      "metadata": {
        "id": "GGVwowCCSpYu"
      }
    },
    {
      "cell_type": "markdown",
      "source": [
        "11.WHAT IS THE ROLE OF SEABORN'S PAIRPLOT()FUNCTION?\n",
        "ANS-The seaborn.pairplot() function creates a grid of plots that shows the pairwise relationships between all numerical variables in a dataset.\n",
        "\n",
        "On the diagonal → you usually get histograms (or KDE plots) of each variable.\n",
        "\n",
        "On the off-diagonal → you get scatterplots between pairs of variables."
      ],
      "metadata": {
        "id": "6Jc4szWITY5t"
      }
    },
    {
      "cell_type": "markdown",
      "source": [
        "12.WHAT IS THE PURPOSE OF THE DESCRIBE()FUNCTION IN PYTHON?\n",
        "ANS-\n",
        "1.Quick summary of dataset → Helps understand data distribution without manually calculating stats.\n",
        "\n",
        "2.Detect missing values → Check if count is less than expected.\n",
        "\n",
        "3.Identify outliers → By comparing min/max with quartiles.\n",
        "\n",
        "4.Understand scale of data → Useful before normalization/scaling in machine learning.\n",
        "\n",
        "5.Works for numeric & categorical data (if specified)."
      ],
      "metadata": {
        "id": "HaOOcGf3T2ZO"
      }
    },
    {
      "cell_type": "markdown",
      "source": [
        "13.WHY IS HANDLING MISSING DATA IMPORTANT IN PANDAS?\n",
        "ANS-\n",
        "1.Ensures Data Quality\n",
        "\n",
        "Missing values can distort your dataset.\n",
        "\n",
        "If not handled, they may lead to biased results or wrong conclusions.\n",
        "\n",
        "2.Prevents Errors in Analysis\n",
        "\n",
        "Many Pandas, NumPy, or ML functions cannot handle NaN values and will throw errors.\n",
        "\n",
        "Example: mean(), sum(), or model training may fail if NaNs exist.\n",
        "\n",
        "3.Improves Accuracy of Models\n",
        "\n",
        "Machine learning algorithms generally do not accept missing values.\n",
        "\n",
        "If left untreated, missing data can reduce predictive power and accuracy.\n",
        "\n",
        "4.Reveals Data Collection Issues\n",
        "\n",
        "Missing values may indicate problems in data collection, entry, or transmission.\n",
        "\n",
        "Handling them helps you understand why data is missing (randomly, systematically, etc.).\n",
        "\n",
        "5.Maintains Consistency\n",
        "\n",
        "Missing data can cause misalignment in joins, merges, or group operations.\n",
        "\n",
        "Cleaning ensures consistent and usable datasets."
      ],
      "metadata": {
        "id": "ncQftkfKUVu1"
      }
    },
    {
      "cell_type": "markdown",
      "source": [
        "14.WHAT ARE THE BENIFITS OF USING PLOTLY FOR DATA VISUALIZATION?\n",
        "ANS-1. Interactive Visualizations\n",
        "\n",
        "Unlike Matplotlib/Seaborn (mostly static), Plotly produces interactive charts.\n",
        "\n",
        "You can zoom, hover for tooltips, pan, and export charts easily.\n",
        "\n",
        " 2. Wide Range of Chart Types\n",
        "\n",
        "Supports simple charts (line, bar, scatter) and advanced ones (3D plots, maps, candlestick, heatmaps, choropleths).\n",
        "\n",
        "Good for both business dashboards and scientific visualization.\n",
        "\n",
        " 3. Beautiful & Modern Aesthetics\n",
        "\n",
        "Default charts look clean, polished, and presentation-ready.\n",
        "\n",
        "No need for heavy customization to make them visually appealing.\n",
        "\n",
        " 4. Integration with Dashboards\n",
        "\n",
        "Works seamlessly with Dash (a web app framework by Plotly) to build interactive dashboards.\n",
        "\n",
        "You can share data insights via a simple web app without needing frontend code.\n",
        "\n",
        " 5. Cross-Language and Cross-Platform\n",
        "\n",
        "Available in Python, R, Julia, JavaScript.\n",
        "\n",
        "Charts can be exported as HTML, which means they can run directly in browsers.\n",
        "\n",
        " 6. Handles Large Datasets\n",
        "\n",
        "Can efficiently render large datasets with smooth interactivity.\n",
        "\n",
        "Great for real-time visualizations (e.g., stock prices, sensor data).\n",
        "\n",
        " 7. Customization\n",
        "\n",
        "Highly customizable (colors, layouts, labels, hover info, legends, annotations, etc.).\n",
        "\n",
        "Can make professional-grade plots without much effort."
      ],
      "metadata": {
        "id": "L0OHZb-PVArt"
      }
    },
    {
      "cell_type": "markdown",
      "source": [
        "15.HOW DOES NUMPY HANDLE MULTIDIMENSIONAL ARRAYA?\n",
        "ANS-NumPy’s core data structure is the ndarray (n-dimensional array).\n",
        "This allows NumPy to handle 1D (vectors), 2D (matrices), 3D (cubes), and higher-dimensional data very efficiently.\n",
        "1. Array Structure\n",
        "\n",
        "\n",
        "Shape → number of elements along each dimension.\n",
        "\n",
        "Dimension (ndim) → how many axes the array has.\n",
        "\n",
        "Size → total number of elements.\n",
        "\n",
        "Data type (dtype) → all elements must be the same type (e.g., int, float).\n"
      ],
      "metadata": {
        "id": "xf_mvo56lbyw"
      }
    },
    {
      "cell_type": "markdown",
      "source": [
        "16.WHAT IS THE ROLE OF BROKEH IN DATA VISUALIZATION?\n",
        "ANS-1. Interactive Visualizations\n",
        "\n",
        "Unlike Matplotlib (static plots), Bokeh produces fully interactive plots (zoom, pan, hover, tooltips, selection, etc.).\n",
        "\n",
        "Great for exploring data dynamically.\n",
        "\n",
        "2. Web Integration\n",
        "\n",
        "Plots can be exported as HTML, JSON, or embedded in web apps.\n",
        "\n",
        "Works seamlessly with Flask, Django, and Jupyter Notebooks.\n",
        "\n",
        "3. Scalability with Large Datasets\n",
        "\n",
        "Optimized for handling large or streaming datasets.\n",
        "\n",
        "Can use Datashader with Bokeh to visualize millions of points efficiently.\n",
        "\n",
        "4. Wide Range of Charts\n",
        "\n",
        "Supports basic (line, bar, scatter) and advanced (heatmaps, networks, geographic maps, streaming plots).\n",
        "\n",
        "Great for dashboards and live monitoring.\n",
        "\n",
        "5. Integration with Dashboards\n",
        "\n",
        "Works with Bokeh Server to create real-time interactive dashboards.\n",
        "\n",
        "Ideal for business intelligence, finance, and IoT applications.\n",
        "\n",
        "6. Pythonic and Easy to Use\n",
        "\n",
        "Has a high-level API (bokeh.plotting) for quick plots.\n",
        "\n",
        "Also has a low-level interface for fine-grained control."
      ],
      "metadata": {
        "id": "51YGcivMmSzI"
      }
    },
    {
      "cell_type": "markdown",
      "source": [
        "17.EXPLAIN THE DIFFERENCE BETWEEN APPLY()AND MAP()IN PANDAS.\n",
        "ANS-. map() in Pandas\n",
        "\n",
        "Works only on Series (1D data).\n",
        "\n",
        "Used to apply a function, a dictionary, or a mapping operation to each element.\n",
        "\n",
        "Element-wise transformation.\n",
        "2. apply() in Pandas\n",
        "\n",
        "Works on both DataFrame (2D) and Series (1D).\n",
        "\n",
        "Can apply a function along an axis (rows or columns).\n",
        "\n",
        "More flexible than map()."
      ],
      "metadata": {
        "id": "xp-8XDLOnXt_"
      }
    },
    {
      "cell_type": "markdown",
      "source": [
        "18.WHAT ARE SOME ADAVNCED FEATURES OF NUMPY?\n",
        "ANS-\n",
        "1. Broadcasting\n",
        "Allows arithmetic operations between arrays of different shapes without explicit loops.\n",
        "Saves time and memory.\n",
        "2.Vectorization\n",
        "\n",
        "Replaces Python loops with optimized C-based operations.\n",
        "\n",
        "Leads to much faster computations.\n",
        "3. Boolean Indexing & Masking\n",
        "\n",
        "Filter arrays using conditions directly.\n",
        "4. Fancy Indexing\n",
        "\n",
        "Index arrays using lists/arrays of indices.\n",
        "5. Multidimensional Arrays (ndarray)\n",
        "\n",
        "Supports n-dimensional arrays with slicing, reshaping, and transposing.\n",
        "6. Linear Algebra Functions\n",
        "\n",
        "Built-in support for matrix operations:\n",
        "\n",
        "dot products (np.dot)\n",
        "\n",
        "eigenvalues (np.linalg.eig)\n",
        "\n",
        "inverses (np.linalg.inv)\n",
        "\n",
        "solving equations (np.linalg.solve)\n",
        "7. Random Module\n",
        "\n",
        "Advanced random number generation:\n",
        "\n",
        "Random integers/floats\n",
        "\n",
        "Normal, uniform, binomial distributions\n",
        "\n",
        "Shuffling and sampling"
      ],
      "metadata": {
        "id": "DUuYPpPVn9xf"
      }
    },
    {
      "cell_type": "markdown",
      "source": [
        "19.HOW DOES PANDAS SIMPLIFY TIME SERIES ANALYSIS?\n",
        "ANS-1. Datetime Indexing\n",
        "\n",
        "Pandas can use dates as an index, allowing easy slicing and filtering.\n",
        "import pandas as pd\n",
        "\n",
        "# Create time series\n",
        "dates = pd.date_range(\"2025-01-01\", periods=5, freq=\"D\")\n",
        "ts = pd.Series([10, 20, 30, 40, 50], index=dates)\n",
        "print(ts[\"2025-01-03\"])  # Select by date\n",
        "2. Date/Time Conversion\n",
        "\n",
        "pd.to_datetime() converts strings into datetime objects automatically.\n",
        "dates = pd.to_datetime([\"2025-01-01\", \"2025-01-02\"])\n",
        "print(dates)\n"
      ],
      "metadata": {
        "id": "phE-vhKcp0KX"
      }
    },
    {
      "cell_type": "markdown",
      "source": [
        "20.WHAT IS THE ROLE OF PIVOT TABLE IN PANDAS?\n",
        "ANS-A pivot table in Pandas is a tool used to summarize and restructure data.\n",
        "It allows you to aggregate values (like mean, sum, count, min, max, etc.) across one or more keys (rows and columns) — similar to Excel pivot tables but much more flexible.\n",
        "Summarization → Quickly compute statistics (average salary per department, total sales per region, etc.).\n",
        "\n",
        "Reshaping data → Rearrange rows/columns into a more useful format.\n",
        "\n",
        "Aggregation → Combine large datasets into meaningful summaries.\n",
        "\n",
        "Comparison → See how values vary across categories.\n",
        "\n",
        "Multi-level grouping"
      ],
      "metadata": {
        "id": "26U9IGgarRjw"
      }
    },
    {
      "cell_type": "markdown",
      "source": [
        "21.WHY IS NUMPY'S ARRAY SLICING FASTER THAN PYTHON'S LIST SLICING?\n",
        "ANS-\n",
        "1.Memory Storage Difference\n",
        "\n",
        "Python Lists\n",
        "\n",
        "Lists are arrays of pointers to objects stored in memory.\n",
        "\n",
        "Each element can be of a different type.\n",
        "\n",
        "When slicing, Python must create a new list and copy references to the sliced objects.\n",
        "\n",
        "NumPy Arrays\n",
        "\n",
        "NumPy arrays store data in contiguous blocks of memory with fixed data types (e.g., all float64).\n",
        "\n",
        "A slice is just a “view” (pointer) to the same block of memory, not a new copy.\n",
        "\n",
        "This makes slicing constant-time O(1) instead of copying element by element.\n",
        "\n",
        "2.Vectorization & C Implementation\n",
        "\n",
        "NumPy is written in C and optimized low-level routines.\n",
        "\n",
        "When slicing, it only changes the starting position, shape, and stride information — no Python-level loops.\n",
        "\n",
        "Python lists rely on interpreter overhead, while NumPy leverages compiled C code.\n",
        "\n",
        "3.No Type Checking Overhead\n",
        "\n",
        "Lists can hold mixed data types, so slicing involves type checking for each element.\n",
        "\n",
        "NumPy arrays enforce a single data type, so slicing doesn’t need extra checks."
      ],
      "metadata": {
        "id": "OP_zczLqs2qH"
      }
    },
    {
      "cell_type": "markdown",
      "source": [
        "22.what are some common use cases for seaborn?\n",
        "ans-Seaborn is a Python data visualization library built on top of matplotlib, designed to make statistical graphics easier and more aesthetically pleasing. It is widely used in data analysis, exploration, and reporting.1. Exploratory Data Analysis (EDA)\n",
        "\n",
        "Quickly visualize data distributions, correlations, and relationships between variables.\n",
        "\n",
        "Helps analysts and data scientists spot trends, anomalies, and patterns.\n",
        "\n",
        "2. Distribution Analysis\n",
        "\n",
        "sns.histplot, sns.kdeplot, sns.ecdfplot\n",
        "Used to understand the distribution of numerical data, compare distributions across groups, or visualize probability densities.\n",
        "\n",
        "3. Correlation & Heatmaps\n",
        "\n",
        "sns.heatmap\n",
        "Perfect for visualizing correlation matrices or any 2D data (e.g., confusion matrices in ML).\n",
        "\n",
        "Helps identify highly correlated features in datasets.\n",
        "\n",
        "4. Categorical Data Visualization\n",
        "\n",
        "sns.barplot, sns.countplot, sns.boxplot, sns.violinplot, sns.stripplot, sns.swarmplot\n",
        "Useful for comparing numerical values across categories (e.g., average salary by profession, test scores by gender).\n",
        "\n",
        "5. Relationship Analysis\n",
        "\n",
        "sns.scatterplot, sns.lineplot, sns.regplot, sns.lmplot\n",
        "Used to analyze relationships between two (or more) variables.\n",
        "For example:\n",
        "\n",
        "Scatter plots to check trends.\n",
        "\n",
        "Regression plots to see linear fits.\n",
        "\n",
        "Line plots for time series.\n",
        "\n",
        "6. Time Series Analysis\n",
        "\n",
        "sns.lineplot\n",
        "Smooth visualization of time-based data (stock prices, sales trends, etc.).\n",
        "\n",
        "7. Pairwise Relationships\n",
        "\n",
        "sns.pairplot\n",
        "Visualizes multiple variables at once with scatter plots and histograms—great for dataset overview.\n",
        "\n",
        "8. Advanced Statistical Visualization\n",
        "\n",
        "Built-in support for confidence intervals, bootstrapping, and regression lines makes it easier to highlight statistical insights compared to raw matplotlib.\n",
        "\n",
        "9. Customization & Styling\n",
        "\n",
        "Provides themes (darkgrid, whitegrid, etc.) and color palettes (deep, muted, bright, etc.) for professional-quality visualizations with minimal code."
      ],
      "metadata": {
        "id": "gjw2eVWBvPp3"
      }
    },
    {
      "cell_type": "markdown",
      "source": [
        "***PRACTICAL***"
      ],
      "metadata": {
        "id": "0sOXQ5wXzBzT"
      }
    },
    {
      "cell_type": "markdown",
      "source": [
        "1.HOW DO YOU CREATE A 2D NUMPY ARRAY AND CALCULATE THE SUM OF EACH RAW?\n"
      ],
      "metadata": {
        "id": "egdix315zWTS"
      }
    },
    {
      "cell_type": "code",
      "source": [
        "import numpy as np\n",
        "\n",
        "# Create a 2D NumPy array\n",
        "arr = np.array([[1, 2, 3],\n",
        "                [4, 5, 6],\n",
        "                [7, 8, 9]])\n",
        "\n",
        "print(\"2D Array:\")\n",
        "print(arr)\n",
        "\n",
        "# Calculate the sum of each row (axis=1 means row-wise)\n",
        "row_sums = np.sum(arr, axis=1)\n",
        "\n",
        "print(\"\\nSum of each row:\")\n",
        "print(row_sums)\n"
      ],
      "metadata": {
        "colab": {
          "base_uri": "https://localhost:8080/"
        },
        "id": "hP0uPvK_09BT",
        "outputId": "51fce54a-b7e2-4a95-cce4-1db969c19dcd"
      },
      "execution_count": null,
      "outputs": [
        {
          "output_type": "stream",
          "name": "stdout",
          "text": [
            "2D Array:\n",
            "[[1 2 3]\n",
            " [4 5 6]\n",
            " [7 8 9]]\n",
            "\n",
            "Sum of each row:\n",
            "[ 6 15 24]\n"
          ]
        }
      ]
    },
    {
      "cell_type": "markdown",
      "source": [
        "2.WRITE A PANDAS SCRIPT TO FIND THE MEAN OF A SPECIFIC COLUMN IN A DATAFRAME.\n"
      ],
      "metadata": {
        "id": "rfOFyO0t1csG"
      }
    },
    {
      "cell_type": "code",
      "source": [
        "import pandas as pd\n",
        "\n",
        "# Sample DataFrame\n",
        "data = {\n",
        "    \"Name\": [\"Alice\", \"Bob\", \"Charlie\", \"David\"],\n",
        "    \"Age\": [25, 30, 35, 40],\n",
        "    \"Salary\": [50000, 60000, 70000, 80000]\n",
        "}\n",
        "\n",
        "df = pd.DataFrame(data)\n",
        "\n",
        "print(\"DataFrame:\")\n",
        "print(df)\n",
        "\n",
        "# Find mean of a specific column, e.g., 'Salary'\n",
        "mean_salary = df[\"Salary\"].mean()\n",
        "\n",
        "print(\"\\nMean of 'Salary' column:\", mean_salary)\n"
      ],
      "metadata": {
        "colab": {
          "base_uri": "https://localhost:8080/"
        },
        "id": "U7Wzwb9C1wmL",
        "outputId": "8bc0a05e-eaa9-41fb-f6b9-bf2f91f761e1"
      },
      "execution_count": null,
      "outputs": [
        {
          "output_type": "stream",
          "name": "stdout",
          "text": [
            "DataFrame:\n",
            "      Name  Age  Salary\n",
            "0    Alice   25   50000\n",
            "1      Bob   30   60000\n",
            "2  Charlie   35   70000\n",
            "3    David   40   80000\n",
            "\n",
            "Mean of 'Salary' column: 65000.0\n"
          ]
        }
      ]
    },
    {
      "cell_type": "markdown",
      "source": [
        "3.CREATE A SCATTER PLOT USING MATPLOTLIIB.\n"
      ],
      "metadata": {
        "id": "zW8Qq4DX1-Qg"
      }
    },
    {
      "cell_type": "code",
      "source": [
        "import matplotlib.pyplot as plt\n",
        "\n",
        "# Sample data\n",
        "x = [5, 7, 8, 7, 6, 9, 5, 6, 7, 8]\n",
        "y = [99, 86, 87, 88, 100, 86, 103, 87, 94, 78]\n",
        "\n",
        "# Create scatter plot\n",
        "plt.scatter(x, y, color=\"blue\", marker=\"o\", s=100)\n",
        "\n",
        "# Add labels and title\n",
        "plt.xlabel(\"X-axis values\")\n",
        "plt.ylabel(\"Y-axis values\")\n",
        "plt.title(\"Simple Scatter Plot\")\n",
        "\n",
        "# Show the plot\n",
        "plt.show()\n"
      ],
      "metadata": {
        "colab": {
          "base_uri": "https://localhost:8080/",
          "height": 472
        },
        "id": "v6HtwVM-3OQg",
        "outputId": "198ea81a-3393-4c41-8364-d8a7f54b8cde"
      },
      "execution_count": null,
      "outputs": [
        {
          "output_type": "display_data",
          "data": {
            "text/plain": [
              "<Figure size 640x480 with 1 Axes>"
            ],
            "image/png": "[encoded data removed]"
          },
          "metadata": {}
        }
      ]
    },
    {
      "cell_type": "markdown",
      "source": [
        "4.HOW DO YOU CALCULATE THE CORRELATION MATRIX USING SEABORN AND VISUALIZE IT WITH A HEATMAP?"
      ],
      "metadata": {
        "id": "jGnDPuTC3cGd"
      }
    },
    {
      "cell_type": "code",
      "source": [
        "import pandas as pd\n",
        "import seaborn as sns\n",
        "import matplotlib.pyplot as plt\n",
        "\n",
        "# Sample DataFrame\n",
        "data = {\n",
        "    \"Age\": [25, 30, 35, 40, 45],\n",
        "    \"Salary\": [50000, 60000, 70000, 80000, 90000],\n",
        "    \"Experience\": [2, 4, 6, 8, 10]\n",
        "}\n",
        "\n",
        "df = pd.DataFrame(data)\n",
        "\n",
        "# Step 1: Calculate correlation matrix\n",
        "corr_matrix = df.corr()\n",
        "\n",
        "print(\"Correlation Matrix:\")\n",
        "print(corr_matrix)\n",
        "\n",
        "# Step 2: Plot heatmap using seaborn\n",
        "plt.figure(figsize=(6,4))\n",
        "sns.heatmap(corr_matrix, annot=True, cmap=\"coolwarm\", linewidths=0.5)\n",
        "\n",
        "plt.title(\"Correlation Matrix Heatmap\")\n",
        "plt.show()\n"
      ],
      "metadata": {
        "colab": {
          "base_uri": "https://localhost:8080/",
          "height": 478
        },
        "id": "bZ8ylb1O401K",
        "outputId": "0208d36a-11a7-477a-c1ac-840bcd2a057f"
      },
      "execution_count": null,
      "outputs": [
        {
          "output_type": "stream",
          "name": "stdout",
          "text": [
            "Correlation Matrix:\n",
            "            Age  Salary  Experience\n",
            "Age         1.0     1.0         1.0\n",
            "Salary      1.0     1.0         1.0\n",
            "Experience  1.0     1.0         1.0\n"
          ]
        },
        {
          "output_type": "display_data",
          "data": {
            "text/plain": [
              "<Figure size 600x400 with 2 Axes>"
            ],
            "image/png": "[encoded data removed]"
          },
          "metadata": {}
        }
      ]
    },
    {
      "cell_type": "markdown",
      "source": [
        "5.GENERATE A BAR PLOT USING PLOTLY.\n"
      ],
      "metadata": {
        "id": "rjAWR47H46_w"
      }
    },
    {
      "cell_type": "code",
      "source": [
        "import plotly.express as px\n",
        "import pandas as pd\n",
        "\n",
        "# Sample Data\n",
        "data = {\n",
        "    \"Fruits\": [\"Apples\", \"Bananas\", \"Oranges\", \"Grapes\", \"Mangoes\"],\n",
        "    \"Sales\": [50, 80, 45, 70, 60]\n",
        "}\n",
        "\n",
        "df = pd.DataFrame(data)\n",
        "\n",
        "# Create a bar plot\n",
        "fig = px.bar(df, x=\"Fruits\", y=\"Sales\", color=\"Fruits\", title=\"Fruit Sales Bar Plot\")\n",
        "\n",
        "# Show the interactive plot\n",
        "fig.show()\n"
      ],
      "metadata": {
        "colab": {
          "base_uri": "https://localhost:8080/",
          "height": 542
        },
        "id": "bE6nwXpZ5dOi",
        "outputId": "baccd763-74c8-4b5b-e101-9c58fc3515d0"
      },
      "execution_count": null,
      "outputs": [
        {
          "output_type": "display_data",
          "data": {
            "text/html": [
              "<html>\n",
              "<head><meta charset=\"utf-8\" /></head>\n",
              "<body>\n",
              "    <div>            <script src=\"https://cdnjs.cloudflare.com/ajax/libs/mathjax/2.7.5/MathJax.js?config=TeX-AMS-MML_SVG\"></script><script type=\"text/javascript\">if (window.MathJax && window.MathJax.Hub && window.MathJax.Hub.Config) {window.MathJax.Hub.Config({SVG: {font: \"STIX-Web\"}});}</script>                <script type=\"text/javascript\">window.PlotlyConfig = {MathJaxConfig: 'local'};</script>\n",
              "        <script charset=\"utf-8\" src=\"https://cdn.plot.ly/plotly-2.35.2.min.js\"></script>                <div id=\"b887711e-071a-43f9-b440-604bf41ae19e\" class=\"plotly-graph-div\" style=\"height:525px; width:100%;\"></div>            <script type=\"text/javascript\">                                    window.PLOTLYENV=window.PLOTLYENV || {};                                    if (document.getElementById(\"b887711e-071a-43f9-b440-604bf41ae19e\")) {                    Plotly.newPlot(                        \"b887711e-071a-43f9-b440-604bf41ae19e\",                        [{\"alignmentgroup\":\"True\",\"hovertemplate\":\"Fruits=%{x}\\u003cbr\\u003eSales=%{y}\\u003cextra\\u003e\\u003c\\u002fextra\\u003e\",\"legendgroup\":\"Apples\",\"marker\":{\"color\":\"#636efa\",\"pattern\":{\"shape\":\"\"}},\"name\":\"Apples\",\"offsetgroup\":\"Apples\",\"orientation\":\"v\",\"showlegend\":true,\"textposition\":\"auto\",\"x\":[\"Apples\"],\"xaxis\":\"x\",\"y\":[50],\"yaxis\":\"y\",\"type\":\"bar\"},{\"alignmentgroup\":\"True\",\"hovertemplate\":\"Fruits=%{x}\\u003cbr\\u003eSales=%{y}\\u003cextra\\u003e\\u003c\\u002fextra\\u003e\",\"legendgroup\":\"Bananas\",\"marker\":{\"color\":\"#EF553B\",\"pattern\":{\"shape\":\"\"}},\"name\":\"Bananas\",\"offsetgroup\":\"Bananas\",\"orientation\":\"v\",\"showlegend\":true,\"textposition\":\"auto\",\"x\":[\"Bananas\"],\"xaxis\":\"x\",\"y\":[80],\"yaxis\":\"y\",\"type\":\"bar\"},{\"alignmentgroup\":\"True\",\"hovertemplate\":\"Fruits=%{x}\\u003cbr\\u003eSales=%{y}\\u003cextra\\u003e\\u003c\\u002fextra\\u003e\",\"legendgroup\":\"Oranges\",\"marker\":{\"color\":\"#00cc96\",\"pattern\":{\"shape\":\"\"}},\"name\":\"Oranges\",\"offsetgroup\":\"Oranges\",\"orientation\":\"v\",\"showlegend\":true,\"textposition\":\"auto\",\"x\":[\"Oranges\"],\"xaxis\":\"x\",\"y\":[45],\"yaxis\":\"y\",\"type\":\"bar\"},{\"alignmentgroup\":\"True\",\"hovertemplate\":\"Fruits=%{x}\\u003cbr\\u003eSales=%{y}\\u003cextra\\u003e\\u003c\\u002fextra\\u003e\",\"legendgroup\":\"Grapes\",\"marker\":{\"color\":\"#ab63fa\",\"pattern\":{\"shape\":\"\"}},\"name\":\"Grapes\",\"offsetgroup\":\"Grapes\",\"orientation\":\"v\",\"showlegend\":true,\"textposition\":\"auto\",\"x\":[\"Grapes\"],\"xaxis\":\"x\",\"y\":[70],\"yaxis\":\"y\",\"type\":\"bar\"},{\"alignmentgroup\":\"True\",\"hovertemplate\":\"Fruits=%{x}\\u003cbr\\u003eSales=%{y}\\u003cextra\\u003e\\u003c\\u002fextra\\u003e\",\"legendgroup\":\"Mangoes\",\"marker\":{\"color\":\"#FFA15A\",\"pattern\":{\"shape\":\"\"}},\"name\":\"Mangoes\",\"offsetgroup\":\"Mangoes\",\"orientation\":\"v\",\"showlegend\":true,\"textposition\":\"auto\",\"x\":[\"Mangoes\"],\"xaxis\":\"x\",\"y\":[60],\"yaxis\":\"y\",\"type\":\"bar\"}],                        {\"template\":{\"data\":{\"histogram2dcontour\":[{\"type\":\"histogram2dcontour\",\"colorbar\":{\"outlinewidth\":0,\"ticks\":\"\"},\"colorscale\":[[0.0,\"#0d0887\"],[0.1111111111111111,\"#46039f\"],[0.2222222222222222,\"#7201a8\"],[0.3333333333333333,\"#9c179e\"],[0.4444444444444444,\"#bd3786\"],[0.5555555555555556,\"#d8576b\"],[0.6666666666666666,\"#ed7953\"],[0.7777777777777778,\"#fb9f3a\"],[0.8888888888888888,\"#fdca26\"],[1.0,\"#f0f921\"]]}],\"choropleth\":[{\"type\":\"choropleth\",\"colorbar\":{\"outlinewidth\":0,\"ticks\":\"\"}}],\"histogram2d\":[{\"type\":\"histogram2d\",\"colorbar\":{\"outlinewidth\":0,\"ticks\":\"\"},\"colorscale\":[[0.0,\"#0d0887\"],[0.1111111111111111,\"#46039f\"],[0.2222222222222222,\"#7201a8\"],[0.3333333333333333,\"#9c179e\"],[0.4444444444444444,\"#bd3786\"],[0.5555555555555556,\"#d8576b\"],[0.6666666666666666,\"#ed7953\"],[0.7777777777777778,\"#fb9f3a\"],[0.8888888888888888,\"#fdca26\"],[1.0,\"#f0f921\"]]}],\"heatmap\":[{\"type\":\"heatmap\",\"colorbar\":{\"outlinewidth\":0,\"ticks\":\"\"},\"colorscale\":[[0.0,\"#0d0887\"],[0.1111111111111111,\"#46039f\"],[0.2222222222222222,\"#7201a8\"],[0.3333333333333333,\"#9c179e\"],[0.4444444444444444,\"#bd3786\"],[0.5555555555555556,\"#d8576b\"],[0.6666666666666666,\"#ed7953\"],[0.7777777777777778,\"#fb9f3a\"],[0.8888888888888888,\"#fdca26\"],[1.0,\"#f0f921\"]]}],\"heatmapgl\":[{\"type\":\"heatmapgl\",\"colorbar\":{\"outlinewidth\":0,\"ticks\":\"\"},\"colorscale\":[[0.0,\"#0d0887\"],[0.1111111111111111,\"#46039f\"],[0.2222222222222222,\"#7201a8\"],[0.3333333333333333,\"#9c179e\"],[0.4444444444444444,\"#bd3786\"],[0.5555555555555556,\"#d8576b\"],[0.6666666666666666,\"#ed7953\"],[0.7777777777777778,\"#fb9f3a\"],[0.8888888888888888,\"#fdca26\"],[1.0,\"#f0f921\"]]}],\"contourcarpet\":[{\"type\":\"contourcarpet\",\"colorbar\":{\"outlinewidth\":0,\"ticks\":\"\"}}],\"contour\":[{\"type\":\"contour\",\"colorbar\":{\"outlinewidth\":0,\"ticks\":\"\"},\"colorscale\":[[0.0,\"#0d0887\"],[0.1111111111111111,\"#46039f\"],[0.2222222222222222,\"#7201a8\"],[0.3333333333333333,\"#9c179e\"],[0.4444444444444444,\"#bd3786\"],[0.5555555555555556,\"#d8576b\"],[0.6666666666666666,\"#ed7953\"],[0.7777777777777778,\"#fb9f3a\"],[0.8888888888888888,\"#fdca26\"],[1.0,\"#f0f921\"]]}],\"surface\":[{\"type\":\"surface\",\"colorbar\":{\"outlinewidth\":0,\"ticks\":\"\"},\"colorscale\":[[0.0,\"#0d0887\"],[0.1111111111111111,\"#46039f\"],[0.2222222222222222,\"#7201a8\"],[0.3333333333333333,\"#9c179e\"],[0.4444444444444444,\"#bd3786\"],[0.5555555555555556,\"#d8576b\"],[0.6666666666666666,\"#ed7953\"],[0.7777777777777778,\"#fb9f3a\"],[0.8888888888888888,\"#fdca26\"],[1.0,\"#f0f921\"]]}],\"mesh3d\":[{\"type\":\"mesh3d\",\"colorbar\":{\"outlinewidth\":0,\"ticks\":\"\"}}],\"scatter\":[{\"fillpattern\":{\"fillmode\":\"overlay\",\"size\":10,\"solidity\":0.2},\"type\":\"scatter\"}],\"parcoords\":[{\"type\":\"parcoords\",\"line\":{\"colorbar\":{\"outlinewidth\":0,\"ticks\":\"\"}}}],\"scatterpolargl\":[{\"type\":\"scatterpolargl\",\"marker\":{\"colorbar\":{\"outlinewidth\":0,\"ticks\":\"\"}}}],\"bar\":[{\"error_x\":{\"color\":\"#2a3f5f\"},\"error_y\":{\"color\":\"#2a3f5f\"},\"marker\":{\"line\":{\"color\":\"#E5ECF6\",\"width\":0.5},\"pattern\":{\"fillmode\":\"overlay\",\"size\":10,\"solidity\":0.2}},\"type\":\"bar\"}],\"scattergeo\":[{\"type\":\"scattergeo\",\"marker\":{\"colorbar\":{\"outlinewidth\":0,\"ticks\":\"\"}}}],\"scatterpolar\":[{\"type\":\"scatterpolar\",\"marker\":{\"colorbar\":{\"outlinewidth\":0,\"ticks\":\"\"}}}],\"histogram\":[{\"marker\":{\"pattern\":{\"fillmode\":\"overlay\",\"size\":10,\"solidity\":0.2}},\"type\":\"histogram\"}],\"scattergl\":[{\"type\":\"scattergl\",\"marker\":{\"colorbar\":{\"outlinewidth\":0,\"ticks\":\"\"}}}],\"scatter3d\":[{\"type\":\"scatter3d\",\"line\":{\"colorbar\":{\"outlinewidth\":0,\"ticks\":\"\"}},\"marker\":{\"colorbar\":{\"outlinewidth\":0,\"ticks\":\"\"}}}],\"scattermapbox\":[{\"type\":\"scattermapbox\",\"marker\":{\"colorbar\":{\"outlinewidth\":0,\"ticks\":\"\"}}}],\"scatterternary\":[{\"type\":\"scatterternary\",\"marker\":{\"colorbar\":{\"outlinewidth\":0,\"ticks\":\"\"}}}],\"scattercarpet\":[{\"type\":\"scattercarpet\",\"marker\":{\"colorbar\":{\"outlinewidth\":0,\"ticks\":\"\"}}}],\"carpet\":[{\"aaxis\":{\"endlinecolor\":\"#2a3f5f\",\"gridcolor\":\"white\",\"linecolor\":\"white\",\"minorgridcolor\":\"white\",\"startlinecolor\":\"#2a3f5f\"},\"baxis\":{\"endlinecolor\":\"#2a3f5f\",\"gridcolor\":\"white\",\"linecolor\":\"white\",\"minorgridcolor\":\"white\",\"startlinecolor\":\"#2a3f5f\"},\"type\":\"carpet\"}],\"table\":[{\"cells\":{\"fill\":{\"color\":\"#EBF0F8\"},\"line\":{\"color\":\"white\"}},\"header\":{\"fill\":{\"color\":\"#C8D4E3\"},\"line\":{\"color\":\"white\"}},\"type\":\"table\"}],\"barpolar\":[{\"marker\":{\"line\":{\"color\":\"#E5ECF6\",\"width\":0.5},\"pattern\":{\"fillmode\":\"overlay\",\"size\":10,\"solidity\":0.2}},\"type\":\"barpolar\"}],\"pie\":[{\"automargin\":true,\"type\":\"pie\"}]},\"layout\":{\"autotypenumbers\":\"strict\",\"colorway\":[\"#636efa\",\"#EF553B\",\"#00cc96\",\"#ab63fa\",\"#FFA15A\",\"#19d3f3\",\"#FF6692\",\"#B6E880\",\"#FF97FF\",\"#FECB52\"],\"font\":{\"color\":\"#2a3f5f\"},\"hovermode\":\"closest\",\"hoverlabel\":{\"align\":\"left\"},\"paper_bgcolor\":\"white\",\"plot_bgcolor\":\"#E5ECF6\",\"polar\":{\"bgcolor\":\"#E5ECF6\",\"angularaxis\":{\"gridcolor\":\"white\",\"linecolor\":\"white\",\"ticks\":\"\"},\"radialaxis\":{\"gridcolor\":\"white\",\"linecolor\":\"white\",\"ticks\":\"\"}},\"ternary\":{\"bgcolor\":\"#E5ECF6\",\"aaxis\":{\"gridcolor\":\"white\",\"linecolor\":\"white\",\"ticks\":\"\"},\"baxis\":{\"gridcolor\":\"white\",\"linecolor\":\"white\",\"ticks\":\"\"},\"caxis\":{\"gridcolor\":\"white\",\"linecolor\":\"white\",\"ticks\":\"\"}},\"coloraxis\":{\"colorbar\":{\"outlinewidth\":0,\"ticks\":\"\"}},\"colorscale\":{\"sequential\":[[0.0,\"#0d0887\"],[0.1111111111111111,\"#46039f\"],[0.2222222222222222,\"#7201a8\"],[0.3333333333333333,\"#9c179e\"],[0.4444444444444444,\"#bd3786\"],[0.5555555555555556,\"#d8576b\"],[0.6666666666666666,\"#ed7953\"],[0.7777777777777778,\"#fb9f3a\"],[0.8888888888888888,\"#fdca26\"],[1.0,\"#f0f921\"]],\"sequentialminus\":[[0.0,\"#0d0887\"],[0.1111111111111111,\"#46039f\"],[0.2222222222222222,\"#7201a8\"],[0.3333333333333333,\"#9c179e\"],[0.4444444444444444,\"#bd3786\"],[0.5555555555555556,\"#d8576b\"],[0.6666666666666666,\"#ed7953\"],[0.7777777777777778,\"#fb9f3a\"],[0.8888888888888888,\"#fdca26\"],[1.0,\"#f0f921\"]],\"diverging\":[[0,\"#8e0152\"],[0.1,\"#c51b7d\"],[0.2,\"#de77ae\"],[0.3,\"#f1b6da\"],[0.4,\"#fde0ef\"],[0.5,\"#f7f7f7\"],[0.6,\"#e6f5d0\"],[0.7,\"#b8e186\"],[0.8,\"#7fbc41\"],[0.9,\"#4d9221\"],[1,\"#276419\"]]},\"xaxis\":{\"gridcolor\":\"white\",\"linecolor\":\"white\",\"ticks\":\"\",\"title\":{\"standoff\":15},\"zerolinecolor\":\"white\",\"automargin\":true,\"zerolinewidth\":2},\"yaxis\":{\"gridcolor\":\"white\",\"linecolor\":\"white\",\"ticks\":\"\",\"title\":{\"standoff\":15},\"zerolinecolor\":\"white\",\"automargin\":true,\"zerolinewidth\":2},\"scene\":{\"xaxis\":{\"backgroundcolor\":\"#E5ECF6\",\"gridcolor\":\"white\",\"linecolor\":\"white\",\"showbackground\":true,\"ticks\":\"\",\"zerolinecolor\":\"white\",\"gridwidth\":2},\"yaxis\":{\"backgroundcolor\":\"#E5ECF6\",\"gridcolor\":\"white\",\"linecolor\":\"white\",\"showbackground\":true,\"ticks\":\"\",\"zerolinecolor\":\"white\",\"gridwidth\":2},\"zaxis\":{\"backgroundcolor\":\"#E5ECF6\",\"gridcolor\":\"white\",\"linecolor\":\"white\",\"showbackground\":true,\"ticks\":\"\",\"zerolinecolor\":\"white\",\"gridwidth\":2}},\"shapedefaults\":{\"line\":{\"color\":\"#2a3f5f\"}},\"annotationdefaults\":{\"arrowcolor\":\"#2a3f5f\",\"arrowhead\":0,\"arrowwidth\":1},\"geo\":{\"bgcolor\":\"white\",\"landcolor\":\"#E5ECF6\",\"subunitcolor\":\"white\",\"showland\":true,\"showlakes\":true,\"lakecolor\":\"white\"},\"title\":{\"x\":0.05},\"mapbox\":{\"style\":\"light\"}}},\"xaxis\":{\"anchor\":\"y\",\"domain\":[0.0,1.0],\"title\":{\"text\":\"Fruits\"},\"categoryorder\":\"array\",\"categoryarray\":[\"Apples\",\"Bananas\",\"Oranges\",\"Grapes\",\"Mangoes\"]},\"yaxis\":{\"anchor\":\"x\",\"domain\":[0.0,1.0],\"title\":{\"text\":\"Sales\"}},\"legend\":{\"title\":{\"text\":\"Fruits\"},\"tracegroupgap\":0},\"title\":{\"text\":\"Fruit Sales Bar Plot\"},\"barmode\":\"relative\"},                        {\"responsive\": true}                    ).then(function(){\n",
              "                            \n",
              "var gd = document.getElementById('b887711e-071a-43f9-b440-604bf41ae19e');\n",
              "var x = new MutationObserver(function (mutations, observer) {{\n",
              "        var display = window.getComputedStyle(gd).display;\n",
              "        if (!display || display === 'none') {{\n",
              "            console.log([gd, 'removed!']);\n",
              "            Plotly.purge(gd);\n",
              "            observer.disconnect();\n",
              "        }}\n",
              "}});\n",
              "\n",
              "// Listen for the removal of the full notebook cells\n",
              "var notebookContainer = gd.closest('#notebook-container');\n",
              "if (notebookContainer) {{\n",
              "    x.observe(notebookContainer, {childList: true});\n",
              "}}\n",
              "\n",
              "// Listen for the clearing of the current output cell\n",
              "var outputEl = gd.closest('.output');\n",
              "if (outputEl) {{\n",
              "    x.observe(outputEl, {childList: true});\n",
              "}}\n",
              "\n",
              "                        })                };                            </script>        </div>\n",
              "</body>\n",
              "</html>"
            ]
          },
          "metadata": {}
        }
      ]
    },
    {
      "cell_type": "markdown",
      "source": [
        "6.CREATE A DATAFRAME AND ADD A NEW COLUMN BASED ON AN EXISTING COLUMN."
      ],
      "metadata": {
        "id": "y_8D3FbS5i8Y"
      }
    },
    {
      "cell_type": "code",
      "source": [
        "import pandas as pd\n",
        "\n",
        "# Step 1: Create a DataFrame\n",
        "data = {\n",
        "    \"Name\": [\"Alice\", \"Bob\", \"Charlie\", \"David\"],\n",
        "    \"Salary\": [50000, 60000, 70000, 80000]\n",
        "}\n",
        "\n",
        "df = pd.DataFrame(data)\n",
        "\n",
        "print(\"Original DataFrame:\")\n",
        "print(df)\n",
        "\n",
        "# Step 2: Add a new column based on an existing one\n",
        "# Example: Calculate 10% bonus from Salary\n",
        "df[\"Bonus\"] = df[\"Salary\"] * 0.10\n",
        "\n",
        "print(\"\\nDataFrame with New Column:\")\n",
        "print(df)\n"
      ],
      "metadata": {
        "colab": {
          "base_uri": "https://localhost:8080/"
        },
        "id": "r_NJrmXC54hO",
        "outputId": "5da0af29-614e-41db-b8dc-57cf3984689a"
      },
      "execution_count": null,
      "outputs": [
        {
          "output_type": "stream",
          "name": "stdout",
          "text": [
            "Original DataFrame:\n",
            "      Name  Salary\n",
            "0    Alice   50000\n",
            "1      Bob   60000\n",
            "2  Charlie   70000\n",
            "3    David   80000\n",
            "\n",
            "DataFrame with New Column:\n",
            "      Name  Salary   Bonus\n",
            "0    Alice   50000  5000.0\n",
            "1      Bob   60000  6000.0\n",
            "2  Charlie   70000  7000.0\n",
            "3    David   80000  8000.0\n"
          ]
        }
      ]
    },
    {
      "cell_type": "markdown",
      "source": [
        "7.WRITE A PROGRAM TO PERFORM ELEMENT-WISE MULTIPLICATION OF TWO NUMPY ARRAYS.\n"
      ],
      "metadata": {
        "id": "LPORN74T58SW"
      }
    },
    {
      "cell_type": "code",
      "source": [
        "import numpy as np\n",
        "\n",
        "# Create two NumPy arrays\n",
        "arr1 = np.array([1, 2, 3, 4])\n",
        "arr2 = np.array([10, 20, 30, 40])\n",
        "\n",
        "print(\"Array 1:\", arr1)\n",
        "print(\"Array 2:\", arr2)\n",
        "\n",
        "# Perform element-wise multiplication\n",
        "result = arr1 * arr2\n",
        "\n",
        "print(\"\\nElement-wise Multiplication Result:\", result)\n"
      ],
      "metadata": {
        "colab": {
          "base_uri": "https://localhost:8080/"
        },
        "id": "7a8prqE56mQj",
        "outputId": "1b8ffcb9-1a5a-4e28-9e30-ca1c88a3b3ea"
      },
      "execution_count": null,
      "outputs": [
        {
          "output_type": "stream",
          "name": "stdout",
          "text": [
            "Array 1: [1 2 3 4]\n",
            "Array 2: [10 20 30 40]\n",
            "\n",
            "Element-wise Multiplication Result: [ 10  40  90 160]\n"
          ]
        }
      ]
    },
    {
      "cell_type": "markdown",
      "source": [
        "8.CREATE A LINE PLOT WITH MULTIPLE LINES USING MATPLOTLIB."
      ],
      "metadata": {
        "id": "IzVAo7GI6ptv"
      }
    },
    {
      "cell_type": "code",
      "source": [
        "import matplotlib.pyplot as plt\n",
        "\n",
        "# Sample data\n",
        "x = [1, 2, 3, 4, 5]\n",
        "y1 = [2, 4, 6, 8, 10]       # First line\n",
        "y2 = [1, 3, 5, 7, 9]        # Second line\n",
        "y3 = [2, 3, 4, 5, 6]        # Third line\n",
        "\n",
        "# Create line plots\n",
        "plt.plot(x, y1, label=\"Line 1 - Double\", color=\"blue\", marker=\"o\")\n",
        "plt.plot(x, y2, label=\"Line 2 - Odd\", color=\"green\", marker=\"s\")\n",
        "plt.plot(x, y3, label=\"Line 3 - Shifted\", color=\"red\", marker=\"^\")\n",
        "\n",
        "# Add labels and title\n",
        "plt.xlabel(\"X-axis\")\n",
        "plt.ylabel(\"Y-axis\")\n",
        "plt.title(\"Line Plot with Multiple Lines\")\n",
        "\n",
        "# Show legend\n",
        "plt.legend()\n",
        "\n",
        "# Display the plot\n",
        "plt.show()\n"
      ],
      "metadata": {
        "colab": {
          "base_uri": "https://localhost:8080/",
          "height": 472
        },
        "id": "UndzgTez7TMb",
        "outputId": "1560e3b7-d9a5-4c28-bc8e-8603461cd108"
      },
      "execution_count": null,
      "outputs": [
        {
          "output_type": "display_data",
          "data": {
            "text/plain": [
              "<Figure size 640x480 with 1 Axes>"
            ],
            "image/png": "[encoded data removed]"
          },
          "metadata": {}
        }
      ]
    },
    {
      "cell_type": "markdown",
      "source": [
        "9.GENERATE A PANDAS DATAFA0EAME AND FILTER ROWS WHERE A COLUMN VALUE IS GREATER THAN A THRESHOLD."
      ],
      "metadata": {
        "id": "P_oFHmz87VoB"
      }
    },
    {
      "cell_type": "code",
      "source": [
        "import pandas as pd\n",
        "\n",
        "# Step 1: Create a DataFrame\n",
        "data = {\n",
        "    \"Name\": [\"Alice\", \"Bob\", \"Charlie\", \"David\", \"Eve\"],\n",
        "    \"Age\": [25, 32, 18, 45, 29],\n",
        "    \"Salary\": [50000, 62000, 40000, 80000, 55000]\n",
        "}\n",
        "\n",
        "df = pd.DataFrame(data)\n",
        "\n",
        "print(\"Original DataFrame:\")\n",
        "print(df)\n",
        "\n",
        "# Step 2: Filter rows where Salary > 55000\n",
        "filtered_df = df[df[\"Salary\"] > 55000]\n",
        "\n",
        "print(\"\\nFiltered DataFrame (Salary > 55000):\")\n",
        "print(filtered_df)\n"
      ],
      "metadata": {
        "colab": {
          "base_uri": "https://localhost:8080/"
        },
        "id": "259iMuCW8Jpv",
        "outputId": "c411a7b1-f225-4590-c576-cb1ad5f4fb51"
      },
      "execution_count": null,
      "outputs": [
        {
          "output_type": "stream",
          "name": "stdout",
          "text": [
            "Original DataFrame:\n",
            "      Name  Age  Salary\n",
            "0    Alice   25   50000\n",
            "1      Bob   32   62000\n",
            "2  Charlie   18   40000\n",
            "3    David   45   80000\n",
            "4      Eve   29   55000\n",
            "\n",
            "Filtered DataFrame (Salary > 55000):\n",
            "    Name  Age  Salary\n",
            "1    Bob   32   62000\n",
            "3  David   45   80000\n"
          ]
        }
      ]
    },
    {
      "cell_type": "markdown",
      "source": [
        "10.CREATE A HISTOGRAM USING SEABORN TO VISUALIZE A DISTRIBUTION."
      ],
      "metadata": {
        "id": "V4VdqnQm8S0N"
      }
    },
    {
      "cell_type": "code",
      "source": [
        "import seaborn as sns\n",
        "import matplotlib.pyplot as plt\n",
        "import numpy as np\n",
        "\n",
        "# Generate some random data\n",
        "data = np.random.normal(loc=50, scale=10, size=200)\n",
        "# mean=50, std=10, 200 samples\n",
        "\n",
        "# Create histogram\n",
        "sns.histplot(data, bins=20, kde=True, color=\"blue\")\n",
        "\n",
        "# Add labels and title\n",
        "plt.xlabel(\"Value\")\n",
        "plt.ylabel(\"Frequency\")\n",
        "plt.title(\"Histogram of Data Distribution\")\n",
        "\n",
        "# Show the plot\n",
        "plt.show()\n"
      ],
      "metadata": {
        "colab": {
          "base_uri": "https://localhost:8080/",
          "height": 472
        },
        "id": "VPsyj3MY8uAT",
        "outputId": "b318f462-566d-40ca-a5f3-0af05ef62ac4"
      },
      "execution_count": null,
      "outputs": [
        {
          "output_type": "display_data",
          "data": {
            "text/plain": [
              "<Figure size 640x480 with 1 Axes>"
            ],
            "image/png": "[encoded data removed]"
          },
          "metadata": {}
        }
      ]
    },
    {
      "cell_type": "markdown",
      "source": [
        "11.PERFORM MATRIX MULTIPLICATION USING NUMPY."
      ],
      "metadata": {
        "id": "oCk8v0kE8xIZ"
      }
    },
    {
      "cell_type": "code",
      "source": [
        "import numpy as np\n",
        "\n",
        "# Define two matrices\n",
        "A = np.array([[1, 2],\n",
        "              [3, 4]])\n",
        "\n",
        "B = np.array([[5, 6],\n",
        "              [7, 8]])\n",
        "\n",
        "print(\"Matrix A:\\n\", A)\n",
        "print(\"Matrix B:\\n\", B)\n",
        "\n",
        "# Method 1: Using @ operator\n",
        "C1 = A @ B\n",
        "\n",
        "# Method 2: Using np.dot()\n",
        "C2 = np.dot(A, B)\n",
        "\n",
        "# Method 3: Using np.matmul()\n",
        "C3 = np.matmul(A, B)\n",
        "\n",
        "print(\"\\nMatrix Multiplication Result (A x B):\")\n",
        "print(C1)\n"
      ],
      "metadata": {
        "colab": {
          "base_uri": "https://localhost:8080/"
        },
        "id": "_RnwPe6L9tAy",
        "outputId": "92db4624-bb97-4af3-d569-a5543b40ad2c"
      },
      "execution_count": null,
      "outputs": [
        {
          "output_type": "stream",
          "name": "stdout",
          "text": [
            "Matrix A:\n",
            " [[1 2]\n",
            " [3 4]]\n",
            "Matrix B:\n",
            " [[5 6]\n",
            " [7 8]]\n",
            "\n",
            "Matrix Multiplication Result (A x B):\n",
            "[[19 22]\n",
            " [43 50]]\n"
          ]
        }
      ]
    },
    {
      "cell_type": "markdown",
      "source": [
        "12.USE PANDAS TO LOAD A CSV FILE AND DISPLAY ITS FIRST 5ROWS."
      ],
      "metadata": {
        "id": "MLxP3JNR9u8S"
      }
    },
    {
      "cell_type": "code",
      "source": [
        "import pandas as pd\n",
        "#CREATE A DICTIONARY OF DATA\n",
        "data={\n",
        "    'NAME':['JOHN','ANNA'],\n",
        "    'AGE':[25,30],\n",
        "    'CITY':['BANGALORE','MUMBAI']\n",
        "}\n",
        "#CONVERT THE DICTIONARY TO A DATAFRAME\n",
        "df=pd.DataFrame(data)\n",
        "#SAVE TO A CVS FILE\n",
        "df.to_csv('filename.csv',index=False)"
      ],
      "metadata": {
        "id": "klFuC9o2AmWw"
      },
      "execution_count": null,
      "outputs": []
    },
    {
      "cell_type": "code",
      "source": [
        "import pandas as pd\n",
        "\n",
        "# Load CSV file (replace 'data.csv' with your actual file name or path)\n",
        "df = pd.read_csv(\"filename.csv\")\n",
        "\n",
        "# Display the first 5 rows\n",
        "print(df.head())"
      ],
      "metadata": {
        "colab": {
          "base_uri": "https://localhost:8080/"
        },
        "id": "srWbqp8MB2Ff",
        "outputId": "5d14db70-d244-4977-a8f5-1fa4ffd3fbba"
      },
      "execution_count": null,
      "outputs": [
        {
          "output_type": "stream",
          "name": "stdout",
          "text": [
            "   NAME  AGE       CITY\n",
            "0  JOHN   25  BANGALORE\n",
            "1  ANNA   30     MUMBAI\n"
          ]
        }
      ]
    },
    {
      "cell_type": "markdown",
      "source": [
        "13.CREATE A 3D SCATTER PLOT USING PLOTLY."
      ],
      "metadata": {
        "id": "JwKzn0EJB-r4"
      }
    },
    {
      "cell_type": "code",
      "source": [
        "import plotly.express as px\n",
        "import pandas as pd\n",
        "\n",
        "# Sample Data\n",
        "data = {\n",
        "    \"X\": [5, 7, 8, 7, 6, 9, 5, 6, 7, 8],\n",
        "    \"Y\": [99, 86, 87, 88, 100, 86, 103, 87, 94, 78],\n",
        "    \"Z\": [10, 15, 13, 17, 19, 11, 14, 18, 16, 12],\n",
        "    \"Category\": [\"A\",\"A\",\"B\",\"B\",\"C\",\"C\",\"A\",\"B\",\"C\",\"A\"]\n",
        "}\n",
        "\n",
        "df = pd.DataFrame(data)\n",
        "\n",
        "# Create 3D scatter plot\n",
        "fig = px.scatter_3d(df,\n",
        "                    x=\"X\",\n",
        "                    y=\"Y\",\n",
        "                    z=\"Z\",\n",
        "                    color=\"Category\",   # color by category\n",
        "                    size=\"Z\",           # optional: bubble size\n",
        "                    title=\"3D Scatter Plot Example\")\n",
        "\n",
        "# Show the interactive plot\n",
        "fig.show()\n"
      ],
      "metadata": {
        "colab": {
          "base_uri": "https://localhost:8080/",
          "height": 542
        },
        "id": "YF2WCnHVCMAm",
        "outputId": "3ddfedba-9958-40d1-a10e-23a14cc47981"
      },
      "execution_count": null,
      "outputs": [
        {
          "output_type": "display_data",
          "data": {
            "text/html": [
              "<html>\n",
              "<head><meta charset=\"utf-8\" /></head>\n",
              "<body>\n",
              "    <div>            <script src=\"https://cdnjs.cloudflare.com/ajax/libs/mathjax/2.7.5/MathJax.js?config=TeX-AMS-MML_SVG\"></script><script type=\"text/javascript\">if (window.MathJax && window.MathJax.Hub && window.MathJax.Hub.Config) {window.MathJax.Hub.Config({SVG: {font: \"STIX-Web\"}});}</script>                <script type=\"text/javascript\">window.PlotlyConfig = {MathJaxConfig: 'local'};</script>\n",
              "        <script charset=\"utf-8\" src=\"https://cdn.plot.ly/plotly-2.35.2.min.js\"></script>                <div id=\"dfaba8ad-e488-4fb8-b6f7-4e02a236acad\" class=\"plotly-graph-div\" style=\"height:525px; width:100%;\"></div>            <script type=\"text/javascript\">                                    window.PLOTLYENV=window.PLOTLYENV || {};                                    if (document.getElementById(\"dfaba8ad-e488-4fb8-b6f7-4e02a236acad\")) {                    Plotly.newPlot(                        \"dfaba8ad-e488-4fb8-b6f7-4e02a236acad\",                        [{\"hovertemplate\":\"Category=A\\u003cbr\\u003eX=%{x}\\u003cbr\\u003eY=%{y}\\u003cbr\\u003eZ=%{marker.size}\\u003cextra\\u003e\\u003c\\u002fextra\\u003e\",\"legendgroup\":\"A\",\"marker\":{\"color\":\"#636efa\",\"size\":[10,15,14,12],\"sizemode\":\"area\",\"sizeref\":0.0475,\"symbol\":\"circle\"},\"mode\":\"markers\",\"name\":\"A\",\"scene\":\"scene\",\"showlegend\":true,\"x\":[5,7,5,8],\"y\":[99,86,103,78],\"z\":[10,15,14,12],\"type\":\"scatter3d\"},{\"hovertemplate\":\"Category=B\\u003cbr\\u003eX=%{x}\\u003cbr\\u003eY=%{y}\\u003cbr\\u003eZ=%{marker.size}\\u003cextra\\u003e\\u003c\\u002fextra\\u003e\",\"legendgroup\":\"B\",\"marker\":{\"color\":\"#EF553B\",\"size\":[13,17,18],\"sizemode\":\"area\",\"sizeref\":0.0475,\"symbol\":\"circle\"},\"mode\":\"markers\",\"name\":\"B\",\"scene\":\"scene\",\"showlegend\":true,\"x\":[8,7,6],\"y\":[87,88,87],\"z\":[13,17,18],\"type\":\"scatter3d\"},{\"hovertemplate\":\"Category=C\\u003cbr\\u003eX=%{x}\\u003cbr\\u003eY=%{y}\\u003cbr\\u003eZ=%{marker.size}\\u003cextra\\u003e\\u003c\\u002fextra\\u003e\",\"legendgroup\":\"C\",\"marker\":{\"color\":\"#00cc96\",\"size\":[19,11,16],\"sizemode\":\"area\",\"sizeref\":0.0475,\"symbol\":\"circle\"},\"mode\":\"markers\",\"name\":\"C\",\"scene\":\"scene\",\"showlegend\":true,\"x\":[6,9,7],\"y\":[100,86,94],\"z\":[19,11,16],\"type\":\"scatter3d\"}],                        {\"template\":{\"data\":{\"histogram2dcontour\":[{\"type\":\"histogram2dcontour\",\"colorbar\":{\"outlinewidth\":0,\"ticks\":\"\"},\"colorscale\":[[0.0,\"#0d0887\"],[0.1111111111111111,\"#46039f\"],[0.2222222222222222,\"#7201a8\"],[0.3333333333333333,\"#9c179e\"],[0.4444444444444444,\"#bd3786\"],[0.5555555555555556,\"#d8576b\"],[0.6666666666666666,\"#ed7953\"],[0.7777777777777778,\"#fb9f3a\"],[0.8888888888888888,\"#fdca26\"],[1.0,\"#f0f921\"]]}],\"choropleth\":[{\"type\":\"choropleth\",\"colorbar\":{\"outlinewidth\":0,\"ticks\":\"\"}}],\"histogram2d\":[{\"type\":\"histogram2d\",\"colorbar\":{\"outlinewidth\":0,\"ticks\":\"\"},\"colorscale\":[[0.0,\"#0d0887\"],[0.1111111111111111,\"#46039f\"],[0.2222222222222222,\"#7201a8\"],[0.3333333333333333,\"#9c179e\"],[0.4444444444444444,\"#bd3786\"],[0.5555555555555556,\"#d8576b\"],[0.6666666666666666,\"#ed7953\"],[0.7777777777777778,\"#fb9f3a\"],[0.8888888888888888,\"#fdca26\"],[1.0,\"#f0f921\"]]}],\"heatmap\":[{\"type\":\"heatmap\",\"colorbar\":{\"outlinewidth\":0,\"ticks\":\"\"},\"colorscale\":[[0.0,\"#0d0887\"],[0.1111111111111111,\"#46039f\"],[0.2222222222222222,\"#7201a8\"],[0.3333333333333333,\"#9c179e\"],[0.4444444444444444,\"#bd3786\"],[0.5555555555555556,\"#d8576b\"],[0.6666666666666666,\"#ed7953\"],[0.7777777777777778,\"#fb9f3a\"],[0.8888888888888888,\"#fdca26\"],[1.0,\"#f0f921\"]]}],\"heatmapgl\":[{\"type\":\"heatmapgl\",\"colorbar\":{\"outlinewidth\":0,\"ticks\":\"\"},\"colorscale\":[[0.0,\"#0d0887\"],[0.1111111111111111,\"#46039f\"],[0.2222222222222222,\"#7201a8\"],[0.3333333333333333,\"#9c179e\"],[0.4444444444444444,\"#bd3786\"],[0.5555555555555556,\"#d8576b\"],[0.6666666666666666,\"#ed7953\"],[0.7777777777777778,\"#fb9f3a\"],[0.8888888888888888,\"#fdca26\"],[1.0,\"#f0f921\"]]}],\"contourcarpet\":[{\"type\":\"contourcarpet\",\"colorbar\":{\"outlinewidth\":0,\"ticks\":\"\"}}],\"contour\":[{\"type\":\"contour\",\"colorbar\":{\"outlinewidth\":0,\"ticks\":\"\"},\"colorscale\":[[0.0,\"#0d0887\"],[0.1111111111111111,\"#46039f\"],[0.2222222222222222,\"#7201a8\"],[0.3333333333333333,\"#9c179e\"],[0.4444444444444444,\"#bd3786\"],[0.5555555555555556,\"#d8576b\"],[0.6666666666666666,\"#ed7953\"],[0.7777777777777778,\"#fb9f3a\"],[0.8888888888888888,\"#fdca26\"],[1.0,\"#f0f921\"]]}],\"surface\":[{\"type\":\"surface\",\"colorbar\":{\"outlinewidth\":0,\"ticks\":\"\"},\"colorscale\":[[0.0,\"#0d0887\"],[0.1111111111111111,\"#46039f\"],[0.2222222222222222,\"#7201a8\"],[0.3333333333333333,\"#9c179e\"],[0.4444444444444444,\"#bd3786\"],[0.5555555555555556,\"#d8576b\"],[0.6666666666666666,\"#ed7953\"],[0.7777777777777778,\"#fb9f3a\"],[0.8888888888888888,\"#fdca26\"],[1.0,\"#f0f921\"]]}],\"mesh3d\":[{\"type\":\"mesh3d\",\"colorbar\":{\"outlinewidth\":0,\"ticks\":\"\"}}],\"scatter\":[{\"fillpattern\":{\"fillmode\":\"overlay\",\"size\":10,\"solidity\":0.2},\"type\":\"scatter\"}],\"parcoords\":[{\"type\":\"parcoords\",\"line\":{\"colorbar\":{\"outlinewidth\":0,\"ticks\":\"\"}}}],\"scatterpolargl\":[{\"type\":\"scatterpolargl\",\"marker\":{\"colorbar\":{\"outlinewidth\":0,\"ticks\":\"\"}}}],\"bar\":[{\"error_x\":{\"color\":\"#2a3f5f\"},\"error_y\":{\"color\":\"#2a3f5f\"},\"marker\":{\"line\":{\"color\":\"#E5ECF6\",\"width\":0.5},\"pattern\":{\"fillmode\":\"overlay\",\"size\":10,\"solidity\":0.2}},\"type\":\"bar\"}],\"scattergeo\":[{\"type\":\"scattergeo\",\"marker\":{\"colorbar\":{\"outlinewidth\":0,\"ticks\":\"\"}}}],\"scatterpolar\":[{\"type\":\"scatterpolar\",\"marker\":{\"colorbar\":{\"outlinewidth\":0,\"ticks\":\"\"}}}],\"histogram\":[{\"marker\":{\"pattern\":{\"fillmode\":\"overlay\",\"size\":10,\"solidity\":0.2}},\"type\":\"histogram\"}],\"scattergl\":[{\"type\":\"scattergl\",\"marker\":{\"colorbar\":{\"outlinewidth\":0,\"ticks\":\"\"}}}],\"scatter3d\":[{\"type\":\"scatter3d\",\"line\":{\"colorbar\":{\"outlinewidth\":0,\"ticks\":\"\"}},\"marker\":{\"colorbar\":{\"outlinewidth\":0,\"ticks\":\"\"}}}],\"scattermapbox\":[{\"type\":\"scattermapbox\",\"marker\":{\"colorbar\":{\"outlinewidth\":0,\"ticks\":\"\"}}}],\"scatterternary\":[{\"type\":\"scatterternary\",\"marker\":{\"colorbar\":{\"outlinewidth\":0,\"ticks\":\"\"}}}],\"scattercarpet\":[{\"type\":\"scattercarpet\",\"marker\":{\"colorbar\":{\"outlinewidth\":0,\"ticks\":\"\"}}}],\"carpet\":[{\"aaxis\":{\"endlinecolor\":\"#2a3f5f\",\"gridcolor\":\"white\",\"linecolor\":\"white\",\"minorgridcolor\":\"white\",\"startlinecolor\":\"#2a3f5f\"},\"baxis\":{\"endlinecolor\":\"#2a3f5f\",\"gridcolor\":\"white\",\"linecolor\":\"white\",\"minorgridcolor\":\"white\",\"startlinecolor\":\"#2a3f5f\"},\"type\":\"carpet\"}],\"table\":[{\"cells\":{\"fill\":{\"color\":\"#EBF0F8\"},\"line\":{\"color\":\"white\"}},\"header\":{\"fill\":{\"color\":\"#C8D4E3\"},\"line\":{\"color\":\"white\"}},\"type\":\"table\"}],\"barpolar\":[{\"marker\":{\"line\":{\"color\":\"#E5ECF6\",\"width\":0.5},\"pattern\":{\"fillmode\":\"overlay\",\"size\":10,\"solidity\":0.2}},\"type\":\"barpolar\"}],\"pie\":[{\"automargin\":true,\"type\":\"pie\"}]},\"layout\":{\"autotypenumbers\":\"strict\",\"colorway\":[\"#636efa\",\"#EF553B\",\"#00cc96\",\"#ab63fa\",\"#FFA15A\",\"#19d3f3\",\"#FF6692\",\"#B6E880\",\"#FF97FF\",\"#FECB52\"],\"font\":{\"color\":\"#2a3f5f\"},\"hovermode\":\"closest\",\"hoverlabel\":{\"align\":\"left\"},\"paper_bgcolor\":\"white\",\"plot_bgcolor\":\"#E5ECF6\",\"polar\":{\"bgcolor\":\"#E5ECF6\",\"angularaxis\":{\"gridcolor\":\"white\",\"linecolor\":\"white\",\"ticks\":\"\"},\"radialaxis\":{\"gridcolor\":\"white\",\"linecolor\":\"white\",\"ticks\":\"\"}},\"ternary\":{\"bgcolor\":\"#E5ECF6\",\"aaxis\":{\"gridcolor\":\"white\",\"linecolor\":\"white\",\"ticks\":\"\"},\"baxis\":{\"gridcolor\":\"white\",\"linecolor\":\"white\",\"ticks\":\"\"},\"caxis\":{\"gridcolor\":\"white\",\"linecolor\":\"white\",\"ticks\":\"\"}},\"coloraxis\":{\"colorbar\":{\"outlinewidth\":0,\"ticks\":\"\"}},\"colorscale\":{\"sequential\":[[0.0,\"#0d0887\"],[0.1111111111111111,\"#46039f\"],[0.2222222222222222,\"#7201a8\"],[0.3333333333333333,\"#9c179e\"],[0.4444444444444444,\"#bd3786\"],[0.5555555555555556,\"#d8576b\"],[0.6666666666666666,\"#ed7953\"],[0.7777777777777778,\"#fb9f3a\"],[0.8888888888888888,\"#fdca26\"],[1.0,\"#f0f921\"]],\"sequentialminus\":[[0.0,\"#0d0887\"],[0.1111111111111111,\"#46039f\"],[0.2222222222222222,\"#7201a8\"],[0.3333333333333333,\"#9c179e\"],[0.4444444444444444,\"#bd3786\"],[0.5555555555555556,\"#d8576b\"],[0.6666666666666666,\"#ed7953\"],[0.7777777777777778,\"#fb9f3a\"],[0.8888888888888888,\"#fdca26\"],[1.0,\"#f0f921\"]],\"diverging\":[[0,\"#8e0152\"],[0.1,\"#c51b7d\"],[0.2,\"#de77ae\"],[0.3,\"#f1b6da\"],[0.4,\"#fde0ef\"],[0.5,\"#f7f7f7\"],[0.6,\"#e6f5d0\"],[0.7,\"#b8e186\"],[0.8,\"#7fbc41\"],[0.9,\"#4d9221\"],[1,\"#276419\"]]},\"xaxis\":{\"gridcolor\":\"white\",\"linecolor\":\"white\",\"ticks\":\"\",\"title\":{\"standoff\":15},\"zerolinecolor\":\"white\",\"automargin\":true,\"zerolinewidth\":2},\"yaxis\":{\"gridcolor\":\"white\",\"linecolor\":\"white\",\"ticks\":\"\",\"title\":{\"standoff\":15},\"zerolinecolor\":\"white\",\"automargin\":true,\"zerolinewidth\":2},\"scene\":{\"xaxis\":{\"backgroundcolor\":\"#E5ECF6\",\"gridcolor\":\"white\",\"linecolor\":\"white\",\"showbackground\":true,\"ticks\":\"\",\"zerolinecolor\":\"white\",\"gridwidth\":2},\"yaxis\":{\"backgroundcolor\":\"#E5ECF6\",\"gridcolor\":\"white\",\"linecolor\":\"white\",\"showbackground\":true,\"ticks\":\"\",\"zerolinecolor\":\"white\",\"gridwidth\":2},\"zaxis\":{\"backgroundcolor\":\"#E5ECF6\",\"gridcolor\":\"white\",\"linecolor\":\"white\",\"showbackground\":true,\"ticks\":\"\",\"zerolinecolor\":\"white\",\"gridwidth\":2}},\"shapedefaults\":{\"line\":{\"color\":\"#2a3f5f\"}},\"annotationdefaults\":{\"arrowcolor\":\"#2a3f5f\",\"arrowhead\":0,\"arrowwidth\":1},\"geo\":{\"bgcolor\":\"white\",\"landcolor\":\"#E5ECF6\",\"subunitcolor\":\"white\",\"showland\":true,\"showlakes\":true,\"lakecolor\":\"white\"},\"title\":{\"x\":0.05},\"mapbox\":{\"style\":\"light\"}}},\"scene\":{\"domain\":{\"x\":[0.0,1.0],\"y\":[0.0,1.0]},\"xaxis\":{\"title\":{\"text\":\"X\"}},\"yaxis\":{\"title\":{\"text\":\"Y\"}},\"zaxis\":{\"title\":{\"text\":\"Z\"}}},\"legend\":{\"title\":{\"text\":\"Category\"},\"tracegroupgap\":0,\"itemsizing\":\"constant\"},\"title\":{\"text\":\"3D Scatter Plot Example\"}},                        {\"responsive\": true}                    ).then(function(){\n",
              "                            \n",
              "var gd = document.getElementById('dfaba8ad-e488-4fb8-b6f7-4e02a236acad');\n",
              "var x = new MutationObserver(function (mutations, observer) {{\n",
              "        var display = window.getComputedStyle(gd).display;\n",
              "        if (!display || display === 'none') {{\n",
              "            console.log([gd, 'removed!']);\n",
              "            Plotly.purge(gd);\n",
              "            observer.disconnect();\n",
              "        }}\n",
              "}});\n",
              "\n",
              "// Listen for the removal of the full notebook cells\n",
              "var notebookContainer = gd.closest('#notebook-container');\n",
              "if (notebookContainer) {{\n",
              "    x.observe(notebookContainer, {childList: true});\n",
              "}}\n",
              "\n",
              "// Listen for the clearing of the current output cell\n",
              "var outputEl = gd.closest('.output');\n",
              "if (outputEl) {{\n",
              "    x.observe(outputEl, {childList: true});\n",
              "}}\n",
              "\n",
              "                        })                };                            </script>        </div>\n",
              "</body>\n",
              "</html>"
            ]
          },
          "metadata": {}
        }
      ]
    }
  ]
}