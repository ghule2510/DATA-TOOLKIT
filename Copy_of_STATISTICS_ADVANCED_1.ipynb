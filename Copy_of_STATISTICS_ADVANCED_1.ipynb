{
  "nbformat": 4,
  "nbformat_minor": 0,
  "metadata": {
    "colab": {
      "provenance": [],
      "authorship_tag": "ABX9TyMSu9lEPDQwLNhN+EVrQ8iL",
      "include_colab_link": true
    },
    "kernelspec": {
      "name": "python3",
      "display_name": "Python 3"
    },
    "language_info": {
      "name": "python"
    }
  },
  "cells": [
    {
      "cell_type": "markdown",
      "metadata": {
        "id": "view-in-github",
        "colab_type": "text"
      },
      "source": [
        "<a href=\"https://colab.research.google.com/github/ghule2510/DATA-TOOLKIT/blob/main/Copy_of_STATISTICS_ADVANCED_1.ipynb\" target=\"_parent\"><img src=\"https://colab.research.google.com/assets/colab-badge.svg\" alt=\"Open In Colab\"/></a>"
      ]
    },
    {
      "cell_type": "markdown",
      "source": [
        "1.what is a random variable in probability theory?\n",
        "Ans-In probability theory, a random variable is a variable that assigns a numerical value to the outcomes of a random experiment.\n"
      ],
      "metadata": {
        "id": "To965ggYQ3D-"
      }
    },
    {
      "cell_type": "markdown",
      "source": [
        "2.WHAT ARE THE TYPES OF RANDOM VARIABLES?\n",
        "ANS-TYPES OF RANDOM VARIABLES:\n",
        "1.Discrete Random Variable – takes countable values (e.g., number of heads in 3 coin tosses).\n",
        "\n",
        "2.Continuous Random Variable – takes values from an interval or continuum (e.g., the time it takes for a bus to arrive)."
      ],
      "metadata": {
        "id": "QUTxt7UwTYYc"
      }
    },
    {
      "cell_type": "markdown",
      "source": [
        "3.EXPLAIN THE DIFFERENCE BETWEEN DISCREATE AND CINTINUOUS DISTRIBUTIONS.\n",
        "ANS-1. Discrete Distributions\n",
        "\n",
        "Definition: A distribution where the random variable can take only specific, countable values (finite or countably infinite).\n",
        "\n",
        "Probability is described by a probability mass function (PMF):\n",
        "P(X=x)=P(X)\n",
        "AND\n",
        "\n",
        "∑p(x)=1\n",
        "Examples:\n",
        "\n",
        "Number of heads in 3 coin tosses (\n",
        "0\n",
        ",\n",
        "1\n",
        ",\n",
        "2\n",
        ",\n",
        "3\n",
        "0,1,2,3)\n",
        "\n",
        "Number of students in a class\n",
        "\n",
        "Rolling a die (\n",
        "1\n",
        ",\n",
        "2\n",
        ",\n",
        "3\n",
        ",\n",
        "4\n",
        ",\n",
        "5\n",
        ",\n",
        "6\n",
        "1,2,3,4,5,6)\n",
        "\n",
        "2. Continuous Distributions\n",
        "\n",
        "Definition: A distribution where the random variable can take any value in a continuous interval (uncountably infinite).\n",
        "\n",
        "Probability is described by a probability density function (PDF):\n",
        "P(a≤X≤b)=∫ab​f(x)dx\n",
        "AND\n",
        "∫−∞∞​f(x)dx=1\n",
        "\n",
        "Examples:\n",
        "\n",
        "Time taken for a bus to arrive (could be 5.2, 5.21, 5.213 minutes …)\n",
        "\n",
        "Height or weight of people\n",
        "\n",
        "Temperature at a place"
      ],
      "metadata": {
        "id": "2D8gAnzsUAw9"
      }
    },
    {
      "cell_type": "markdown",
      "source": [
        "4.WHAT IS A BINOMIAL DISTRIBUTION,AND HOW IS IT USED IN PROBABILITY?\n",
        "ANS-A random variable\n",
        "𝑋\n",
        "X follows a Binomial distribution if it counts the number of successes in a fixed number of independent trials, each with the same probability of success.\n",
        "X∼Binomial(n,p)\n",
        "Probability\n",
        "1.Modeling Repeated Independent Experiments\n",
        "\n",
        "It is used when we repeat a random experiment multiple times and want the probability of getting exactly\n",
        "𝑘\n",
        "k successes.\n",
        "2.Predicting Outcomes in Quality Control\n",
        "\n",
        "Used to estimate the probability of finding a certain number of defective items in a batch.\n",
        "\n",
        "Example: In a batch of 20 items, if the defect rate is 5%, probability of finding exactly 2 defectives follows a binomial model.\n",
        "\n",
        "3.Decision-Making in Surveys & Polls\n",
        "\n",
        "If each person independently supports a candidate with probability\n",
        "𝑝\n",
        "p, the number of supporters in a sample of\n",
        "𝑛\n",
        "n follows a binomial distribution.\n",
        "\n",
        "Helps in predicting election outcomes from sample surveys.\n",
        "\n",
        "4.Hypothesis Testing\n",
        "\n",
        "The binomial test checks whether observed data differ significantly from what we’d expect under some hypothesis.\n",
        "\n",
        "Example: If a coin is claimed to be fair, tossing it 50 times and counting heads can be tested with a binomial distribution.\n",
        "\n",
        "5.Approximations\n",
        "\n",
        "For large n, the binomial distribution can be approximated by:\n",
        "NORMAL DISTRIBUTION\n",
        "POISSON DISTRIBUTION WHEN n IS LARGER AND P IS SMALL."
      ],
      "metadata": {
        "id": "olhaoEthXjV2"
      }
    },
    {
      "cell_type": "markdown",
      "source": [
        "5..WHAT IS THE STANDARD NORMAL DISTRIBUTION,AND WHY IS IT IMPORTANT?\n",
        "ANS-It is a special case of the normal distribution (also called the Gaussian distribution).\n",
        "\n",
        "Definition: A normal distribution with:\n",
        "μ=0(mean)andσ=1(standard deviation)\n",
        "\n",
        "Its probability density function (PDF) is:\n",
        "\n",
        "f(z)=2π\n",
        "​1​e−2z2​,−∞<z<∞\n",
        "\n",
        "The variable is usually denoted by\n",
        "𝑍\n",
        "Z, so we call it the Z-distribution.\n",
        "1.Foundation of Statistics\n",
        "\n",
        "Many real-world phenomena (heights, weights, test scores, measurement errors) approximate a normal distribution.\n",
        "\n",
        "The standard normal is the \"reference\" normal.\n",
        "\n",
        "2.Z-scores and Standardization\n",
        "\n",
        "Any normal random variable\n",
        "𝑋\n",
        "∼\n",
        "𝑁\n",
        "(\n",
        "𝜇\n",
        ",\n",
        "𝜎\n",
        "2\n",
        ")\n",
        "X∼N(μ,σ\n",
        "2\n",
        ") can be converted into the standard normal:\n",
        "\n",
        "𝑍\n",
        "=\n",
        "𝑋\n",
        "−\n",
        "𝜇\n",
        "𝜎\n",
        "Z=\n",
        "σ\n",
        "X−μ\n",
        "\t​\n",
        "\n",
        "\n",
        "This process is called standardization and makes different normal distributions comparable.\n",
        "\n",
        "3.Probability Calculations\n",
        "\n",
        "Probabilities for normal distributions are computed using standard normal tables (Z-tables).\n",
        "\n",
        "Example:\n",
        "𝑃\n",
        "(\n",
        "𝑍\n",
        "≤\n",
        "1.96\n",
        ")\n",
        "≈\n",
        "0.975\n",
        "P(Z≤1.96)≈0.975.\n",
        "\n",
        "4.Central Limit Theorem (CLT)\n",
        "\n",
        "The CLT states that the sum (or average) of many independent random variables (even if not normal) tends to follow a normal distribution.\n",
        "\n",
        "The standard normal plays a central role in applying the CLT.\n",
        "\n",
        "5.Hypothesis Testing & Confidence Intervals\n",
        "\n",
        "Critical values like\n",
        "±\n",
        "1.96\n",
        "±1.96 (for 95% confidence) come from the standard normal.\n",
        "\n",
        "It underpins z-tests, confidence intervals, and many inferential statistics tools.\n"
      ],
      "metadata": {
        "id": "HiyJufNQUhDV"
      }
    },
    {
      "cell_type": "markdown",
      "source": [
        "6.WHAT IS THE CENTRAL LIMIT THEOREM(CTL),AND WHY IS IT CRITICAL IN STATISTICS?\n",
        "ANS-If you take a large number of independent, identically distributed (i.i.d.) random variables with finite mean\n",
        "𝜇\n",
        "μ and variance\n",
        "𝜎\n",
        "2\n",
        "σ\n",
        "2\n",
        ", then the distribution of their sample mean (or sum) tends to follow a normal distribution, no matter what the original population distribution is.\n",
        "Why is CLT critical in statistics?\n",
        "\n",
        "1.Normal Approximation\n",
        "\n",
        "Even if the original data are not normally distributed, averages of large samples will be nearly normal.\n",
        "\n",
        "This justifies using normal distribution methods widely.\n",
        "\n",
        "2.Foundation of Inference\n",
        "\n",
        "Hypothesis tests (z-tests, t-tests) and confidence intervals rely on the CLT.\n",
        "\n",
        "Example: When we compute a 95% confidence interval for a population mean, CLT ensures that the sampling distribution of the mean is (approximately) normal.\n",
        "\n",
        "3.Practical Applications\n",
        "\n",
        "Polling: In surveys, sample proportions approximate a normal distribution, which allows margin-of-error calculations.\n",
        "\n",
        "Quality control: Average defect rate across large samples is modeled with normal distribution.\n",
        "\n",
        "Finance: Sum of many small random price movements can be modeled as normal.\n",
        "\n",
        "4.Universality\n",
        "\n",
        "The CLT explains why the normal distribution appears so frequently in nature and data, even when underlying processes are not normal."
      ],
      "metadata": {
        "id": "VrYV_SXVXN1E"
      }
    },
    {
      "cell_type": "markdown",
      "source": [
        "7.WHAT IS THE SIGNIFICANCE OF CONFIDANCE INTERVALS IN STATISTICAL ANALYSIS?\n",
        "ANS-\n",
        "1.Measure of Uncertainty\n",
        "\n",
        "Instead of giving just one estimate (like sample mean), CIs provide a range, showing how precise or uncertain the estimate is.\n",
        "\n",
        "2.More Informative than Point Estimates\n",
        "\n",
        "A point estimate (e.g., sample mean = 168.5 cm) gives no sense of reliability.\n",
        "\n",
        "A CI shows both the estimate and its reliability.\n",
        "\n",
        "3.Decision-Making in Research\n",
        "\n",
        "In medicine, a CI for treatment effect helps determine whether the drug is effective.\n",
        "\n",
        "In polling, CIs give margins of error (e.g., candidate A support = 52% ± 3%).\n",
        "\n",
        "4.Hypothesis Testing Connection\n",
        "\n",
        "If a 95% CI for a population mean difference does not include 0, we can reject the null hypothesis at the 5% level.\n",
        "\n",
        "Thus, CIs and hypothesis tests are deeply linked.\n",
        "\n",
        "5.Flexibility Across Statistics\n",
        "\n",
        "CIs can be built for means, proportions, variances, regression coefficients, odds ratios, etc.\n",
        "\n",
        "6.Generalizability\n",
        "\n",
        "CIs allow researchers to infer about the population from just a sample, which is the heart of statistical inference."
      ],
      "metadata": {
        "id": "c9fJm757bWkD"
      }
    },
    {
      "cell_type": "markdown",
      "source": [
        "8.WHAT IS THE CONCEPT OF EXPECTED VALUE IN A PROBABILITY DISTRIBUTION?\n",
        "ANS-The expected value of a random variable is the long-run average outcome of a probability experiment if it were repeated many times.\n",
        "\n",
        "It is essentially the \"center of gravity\" or \"weighted average\" of a probability distribution."
      ],
      "metadata": {
        "id": "gx5qZjDkcMQA"
      }
    },
    {
      "cell_type": "markdown",
      "source": [
        "9. Write a Python program to generate 1000 random numbers from a normal\n",
        "distribution with mean = 50 and standard deviation = 5. Compute its mean and standard\n",
        "deviation using NumPy, and draw a histogram to visualize the distribution.\n",
        "(Include your Python code and output in the code box below.)\n"
      ],
      "metadata": {
        "id": "ilMayXLVcoK7"
      }
    },
    {
      "cell_type": "code",
      "source": [
        "import numpy as np\n",
        "import matplotlib.pyplot as plt\n",
        "\n",
        "# Parameters\n",
        "mean = 50\n",
        "std_dev = 5\n",
        "n = 1000\n",
        "\n",
        "# Generate 1000 random numbers from normal distribution\n",
        "data = np.random.normal(mean, std_dev, n)\n",
        "\n",
        "# Compute mean and standard deviation\n",
        "calculated_mean = np.mean(data)\n",
        "calculated_std = np.std(data)\n",
        "\n",
        "# Print results\n",
        "print(\"Calculated Mean:\", calculated_mean)\n",
        "print(\"Calculated Standard Deviation:\", calculated_std)\n",
        "\n",
        "# Plot histogram to visualize the distribution\n",
        "plt.hist(data, bins=30, edgecolor='black', alpha=0.7)\n",
        "plt.title(\"Histogram of Normal Distribution (mean=50, std=5)\")\n",
        "plt.xlabel(\"Value\")\n",
        "plt.ylabel(\"Frequency\")\n",
        "plt.show()\n"
      ],
      "metadata": {
        "colab": {
          "base_uri": "https://localhost:8080/",
          "height": 507
        },
        "id": "c55NxEMmdInd",
        "outputId": "9d0de666-c201-4045-828c-d8cb3a8b362f"
      },
      "execution_count": null,
      "outputs": [
        {
          "output_type": "stream",
          "name": "stdout",
          "text": [
            "Calculated Mean: 50.09371597991311\n",
            "Calculated Standard Deviation: 4.796840550494172\n"
          ]
        },
        {
          "output_type": "display_data",
          "data": {
            "text/plain": [
              "<Figure size 640x480 with 1 Axes>"
            ],
            "image/png": "[encoded data removed]"
          },
          "metadata": {}
        }
      ]
    },
    {
      "cell_type": "markdown",
      "source": [
        "10.You are working as a data analyst for a retail company. The company has\n",
        "collected daily sales data for 2 years and wants you to identify the overall sales trend.\n",
        "daily_sales = [220, 245, 210, 265, 230, 250, 260, 275, 240, 255,\n",
        "235, 260, 245, 250, 225, 270, 265, 255, 250, 260]\n",
        "● Explain how you would apply the Central Limit Theorem to estimate the average sales\n",
        "with a 95% confidence interval.\n",
        "● Write the Python code to compute the mean sales and its confidence interval.\n",
        "(Include your Python code and output in the code box below.)\n",
        "ANS-Applying the Central Limit Theorem (CLT)\n",
        "\n",
        "The company has daily sales data. Even if the sales distribution is not perfectly normal, the Central Limit Theorem says the distribution of the sample mean approaches a normal distribution as sample size increases.\n",
        "\n",
        "Using the CLT, we can estimate the population mean sales with a confidence interval (CI).\n",
        "\n",
        "A 95% confidence interval is given by:\n",
        "ˉ±Zα/2​⋅n\n",
        "​s​"
      ],
      "metadata": {
        "id": "PFB-kK3XdSt2"
      }
    },
    {
      "cell_type": "code",
      "source": [
        "import numpy as np\n",
        "import scipy.stats as stats\n",
        "\n",
        "# Daily sales data\n",
        "daily_sales = [220, 245, 210, 265, 230, 250, 260, 275, 240, 255,\n",
        "               235, 260, 245, 250, 225, 270, 265, 255, 250, 260]\n",
        "\n",
        "# Convert to numpy array\n",
        "data = np.array(daily_sales)\n",
        "\n",
        "# Sample statistics\n",
        "mean_sales = np.mean(data)\n",
        "std_sales = np.std(data, ddof=1)  # sample std deviation\n",
        "n = len(data)\n",
        "\n",
        "# 95% confidence interval using CLT (normal approximation)\n",
        "z_score = 1.96\n",
        "margin_of_error = z_score * (std_sales / np.sqrt(n))\n",
        "ci_lower = mean_sales - margin_of_error\n",
        "ci_upper = mean_sales + margin_of_error\n",
        "\n",
        "# Print results\n",
        "print(\"Mean Sales:\", mean_sales)\n",
        "print(\"95% Confidence Interval: ({:.2f}, {:.2f})\".format(ci_lower, ci_upper))\n"
      ],
      "metadata": {
        "colab": {
          "base_uri": "https://localhost:8080/"
        },
        "id": "l_g1o6zwdfZv",
        "outputId": "9c6fd073-05aa-48a3-d02c-6ccbe4398611"
      },
      "execution_count": null,
      "outputs": [
        {
          "output_type": "stream",
          "name": "stdout",
          "text": [
            "Mean Sales: 248.25\n",
            "95% Confidence Interval: (240.68, 255.82)\n"
          ]
        }
      ]
    }
  ]
}